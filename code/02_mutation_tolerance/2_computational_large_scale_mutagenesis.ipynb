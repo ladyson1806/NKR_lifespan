{
 "cells": [
  {
   "cell_type": "code",
   "execution_count": 1,
   "metadata": {},
   "outputs": [],
   "source": [
    "from Bio import SeqIO\n",
    "from tqdm import tqdm\n",
    "from Bio.Seq import Seq, MutableSeq\n",
    "\n",
    "import numpy as np\n",
    "import pandas as pd\n",
    "import seaborn as sns\n",
    "import scipy.stats as stats\n",
    "import os, progressbar, time\n",
    "import matplotlib.pyplot as plt"
   ]
  },
  {
   "cell_type": "markdown",
   "metadata": {},
   "source": [
    "## 1. Collect protein IDs to retrieve their CDS"
   ]
  },
  {
   "cell_type": "code",
   "execution_count": 2,
   "metadata": {},
   "outputs": [],
   "source": [
    "def collect_cds(fastaFile, cdsList, outFile):\n",
    "    tmp = []\n",
    "    for seqRecord in SeqIO.parse(fastaFile, format='fasta'):\n",
    "        if seqRecord.id in cdsList :\n",
    "            tmp.append(seqRecord)\n",
    "    SeqIO.write(tmp, open(outFile, 'w'), 'fasta')"
   ]
  },
  {
   "cell_type": "code",
   "execution_count": 3,
   "metadata": {},
   "outputs": [],
   "source": [
    "HG_fasta = '../../data/ortholog_dataset/uni_HG_orthologs.faa'\n",
    "MM_fasta = '../../data/ortholog_dataset/uni_MM_orthologs.faa'\n",
    "\n",
    "HG_cds_fasta = '/media/savvy/DATA3/savvy/Genomes/model/heterocephalus_glaber/h_glaber_cds_from_genomic.fna'\n",
    "MM_cds_fasta = '/media/savvy/DATA3/savvy/Genomes/model/mus_musculus/m_musculus_cds_from_genomic.fna'\n",
    "\n",
    "HG_IDs = [ seqRecord.id for seqRecord in SeqIO.parse(HG_fasta, format='fasta')]\n",
    "MM_IDs = [ seqRecord.id for seqRecord in SeqIO.parse(MM_fasta, format='fasta')]"
   ]
  },
  {
   "cell_type": "code",
   "execution_count": 4,
   "metadata": {},
   "outputs": [],
   "source": [
    "collect_cds(HG_cds_fasta, HG_IDs, '../../data/ortholog_dataset/uni_HG_cds_orthologs.faa')\n",
    "collect_cds(MM_cds_fasta, MM_IDs, '../../data/ortholog_dataset/uni_MM_cds_orthologs.faa')"
   ]
  },
  {
   "cell_type": "markdown",
   "metadata": {},
   "source": [
    "## 2. Collect the CDS "
   ]
  },
  {
   "cell_type": "code",
   "execution_count": 5,
   "metadata": {},
   "outputs": [],
   "source": [
    "HG_cds_fasta = '../../data/ortholog_dataset/uni_HG_cds_orthologs.faa'\n",
    "MM_cds_fasta = '../../data/ortholog_dataset/uni_MM_cds_orthologs.faa'"
   ]
  },
  {
   "cell_type": "markdown",
   "metadata": {},
   "source": [
    "#### All proteins"
   ]
  },
  {
   "cell_type": "code",
   "execution_count": 6,
   "metadata": {},
   "outputs": [],
   "source": [
    "all_agg_scores = pd.read_csv('../../data/aggregation_propensity/HGMM_agg_scores.csv', sep=',') \n",
    "ortho_pairs = all_agg_scores[['proteinID_x', 'proteinID_y']]"
   ]
  },
  {
   "cell_type": "markdown",
   "metadata": {},
   "source": [
    "#### Chaperone clients"
   ]
  },
  {
   "cell_type": "code",
   "execution_count": 7,
   "metadata": {},
   "outputs": [],
   "source": [
    "uniprot_mapping = pd.read_csv('../../data/chaperone_clients/human_ensembl_to_uniprot.tab', sep='\\t')\n",
    "hs_mm_orthologs = pd.read_csv('../../data/chaperone_clients/HS_MM_uni_ortholog_groups.csv', sep='\\t')\n",
    "hs_mm_orthologs = hs_mm_orthologs[['proteinID_x', 'proteinID_y']]\n",
    "mm_chap_clt = hs_mm_orthologs[hs_mm_orthologs['proteinID_x'].isin(uniprot_mapping['Entry'])]['proteinID_y']\n",
    "\n",
    "chap_clt_sub = all_agg_scores[all_agg_scores['proteinID_y'].isin(list(mm_chap_clt))]"
   ]
  },
  {
   "cell_type": "code",
   "execution_count": 8,
   "metadata": {},
   "outputs": [
    {
     "data": {
      "text/plain": [
       "1298"
      ]
     },
     "execution_count": 8,
     "metadata": {},
     "output_type": "execute_result"
    }
   ],
   "source": [
    "len(chap_clt_sub)"
   ]
  },
  {
   "cell_type": "code",
   "execution_count": 9,
   "metadata": {},
   "outputs": [],
   "source": [
    "#### Container of MM and HG sequences\n",
    "HG_IDs = list(all_agg_scores['proteinID_x'])\n",
    "MM_IDs = list(all_agg_scores['proteinID_y'])"
   ]
  },
  {
   "cell_type": "code",
   "execution_count": 10,
   "metadata": {},
   "outputs": [],
   "source": [
    "HG_seq = {}\n",
    "MM_seq = {}\n",
    "\n",
    "for seqRecord in SeqIO.parse(HG_cds_fasta, format='fasta'):\n",
    "    if seqRecord.id in HG_IDs :\n",
    "        HG_seq[seqRecord.id] = seqRecord\n",
    "        \n",
    "for seqRecord in SeqIO.parse(MM_cds_fasta, format='fasta'):\n",
    "    if seqRecord.id in MM_IDs :\n",
    "        MM_seq[seqRecord.id] = seqRecord"
   ]
  },
  {
   "cell_type": "code",
   "execution_count": 11,
   "metadata": {},
   "outputs": [
    {
     "name": "stdout",
     "output_type": "stream",
     "text": [
      "MM: 9518, HG: 9522\n"
     ]
    }
   ],
   "source": [
    "print(f'MM: {len(MM_seq)}, HG: {len(HG_seq)}')"
   ]
  },
  {
   "cell_type": "markdown",
   "metadata": {},
   "source": [
    "#### Check cds length / cds with non standard nucleotide"
   ]
  },
  {
   "cell_type": "code",
   "execution_count": 12,
   "metadata": {},
   "outputs": [],
   "source": [
    "tmp = []\n",
    "for key in MM_seq.keys() :\n",
    "    cds_id = key\n",
    "    cds = MM_seq[key].seq\n",
    "    if len(cds) % 3 == 0 :\n",
    "        if list(np.unique(cds)) != ['A', 'C', 'G', 'T']:\n",
    "            tmp.append([cds_id, 'MM', 'non_standard_nucleotide', False])\n",
    "        else: \n",
    "            tmp.append([cds_id,'MM', 'standard', True])\n",
    "    else:\n",
    "        tmp.append([cds_id, 'MM', 'non_standard_length', False])\n",
    "        \n",
    "for key in HG_seq.keys() :\n",
    "    cds_id = key\n",
    "    cds = HG_seq[key].seq\n",
    "    if len(cds) % 3 == 0 :\n",
    "        if list(np.unique(cds)) != ['A', 'C', 'G', 'T']:\n",
    "            tmp.append([cds_id, 'HG', 'non_standard_nucleotide', False])\n",
    "        else: \n",
    "            tmp.append([cds_id,'HG', 'standard', True])\n",
    "    else:\n",
    "        tmp.append([cds_id, 'HG', 'non_standard_length', False])\n",
    "\n",
    "cds_validity = pd.DataFrame(tmp, columns=['proteinID', 'organism', 'description', 'valid_cds'])"
   ]
  },
  {
   "cell_type": "code",
   "execution_count": 13,
   "metadata": {},
   "outputs": [
    {
     "data": {
      "text/plain": [
       "18944"
      ]
     },
     "execution_count": 13,
     "metadata": {},
     "output_type": "execute_result"
    }
   ],
   "source": [
    "len(cds_validity[cds_validity['valid_cds'] == True])"
   ]
  },
  {
   "cell_type": "code",
   "execution_count": 14,
   "metadata": {},
   "outputs": [],
   "source": [
    "HG_valids = cds_validity[(cds_validity['valid_cds'] == True) & (cds_validity['organism'] == 'HG')].rename(columns={'proteinID':'proteinID_x'})\n",
    "MM_valids = cds_validity[(cds_validity['valid_cds'] == True) & (cds_validity['organism'] == 'MM')].rename(columns={'proteinID':'proteinID_y'})"
   ]
  },
  {
   "cell_type": "code",
   "execution_count": 15,
   "metadata": {},
   "outputs": [],
   "source": [
    "HG_valids = HG_valids.merge(ortho_pairs, on='proteinID_x')\n",
    "ortho_cds_valids = HG_valids.merge(MM_valids, on='proteinID_y')"
   ]
  },
  {
   "cell_type": "code",
   "execution_count": 16,
   "metadata": {},
   "outputs": [
    {
     "data": {
      "text/html": [
       "<div>\n",
       "<style scoped>\n",
       "    .dataframe tbody tr th:only-of-type {\n",
       "        vertical-align: middle;\n",
       "    }\n",
       "\n",
       "    .dataframe tbody tr th {\n",
       "        vertical-align: top;\n",
       "    }\n",
       "\n",
       "    .dataframe thead th {\n",
       "        text-align: right;\n",
       "    }\n",
       "</style>\n",
       "<table border=\"1\" class=\"dataframe\">\n",
       "  <thead>\n",
       "    <tr style=\"text-align: right;\">\n",
       "      <th></th>\n",
       "      <th>proteinID_x</th>\n",
       "      <th>organism_x</th>\n",
       "      <th>description_x</th>\n",
       "      <th>valid_cds_x</th>\n",
       "      <th>proteinID_y</th>\n",
       "      <th>organism_y</th>\n",
       "      <th>description_y</th>\n",
       "      <th>valid_cds_y</th>\n",
       "    </tr>\n",
       "  </thead>\n",
       "  <tbody>\n",
       "    <tr>\n",
       "      <th>0</th>\n",
       "      <td>E3VX36</td>\n",
       "      <td>HG</td>\n",
       "      <td>standard</td>\n",
       "      <td>True</td>\n",
       "      <td>P51910</td>\n",
       "      <td>MM</td>\n",
       "      <td>standard</td>\n",
       "      <td>True</td>\n",
       "    </tr>\n",
       "    <tr>\n",
       "      <th>1</th>\n",
       "      <td>E3VX52</td>\n",
       "      <td>HG</td>\n",
       "      <td>standard</td>\n",
       "      <td>True</td>\n",
       "      <td>P23927</td>\n",
       "      <td>MM</td>\n",
       "      <td>standard</td>\n",
       "      <td>True</td>\n",
       "    </tr>\n",
       "    <tr>\n",
       "      <th>2</th>\n",
       "      <td>E3VX64</td>\n",
       "      <td>HG</td>\n",
       "      <td>standard</td>\n",
       "      <td>True</td>\n",
       "      <td>P34884</td>\n",
       "      <td>MM</td>\n",
       "      <td>standard</td>\n",
       "      <td>True</td>\n",
       "    </tr>\n",
       "    <tr>\n",
       "      <th>3</th>\n",
       "      <td>E3VX68</td>\n",
       "      <td>HG</td>\n",
       "      <td>standard</td>\n",
       "      <td>True</td>\n",
       "      <td>Q9D7M8</td>\n",
       "      <td>MM</td>\n",
       "      <td>standard</td>\n",
       "      <td>True</td>\n",
       "    </tr>\n",
       "    <tr>\n",
       "      <th>4</th>\n",
       "      <td>E3VX70</td>\n",
       "      <td>HG</td>\n",
       "      <td>standard</td>\n",
       "      <td>True</td>\n",
       "      <td>P61514</td>\n",
       "      <td>MM</td>\n",
       "      <td>standard</td>\n",
       "      <td>True</td>\n",
       "    </tr>\n",
       "    <tr>\n",
       "      <th>...</th>\n",
       "      <td>...</td>\n",
       "      <td>...</td>\n",
       "      <td>...</td>\n",
       "      <td>...</td>\n",
       "      <td>...</td>\n",
       "      <td>...</td>\n",
       "      <td>...</td>\n",
       "      <td>...</td>\n",
       "    </tr>\n",
       "    <tr>\n",
       "      <th>9417</th>\n",
       "      <td>G5CBQ5</td>\n",
       "      <td>HG</td>\n",
       "      <td>standard</td>\n",
       "      <td>True</td>\n",
       "      <td>Q3TYX3</td>\n",
       "      <td>MM</td>\n",
       "      <td>standard</td>\n",
       "      <td>True</td>\n",
       "    </tr>\n",
       "    <tr>\n",
       "      <th>9418</th>\n",
       "      <td>G5CBQ6</td>\n",
       "      <td>HG</td>\n",
       "      <td>standard</td>\n",
       "      <td>True</td>\n",
       "      <td>Q8R361</td>\n",
       "      <td>MM</td>\n",
       "      <td>standard</td>\n",
       "      <td>True</td>\n",
       "    </tr>\n",
       "    <tr>\n",
       "      <th>9419</th>\n",
       "      <td>G5CBQ8</td>\n",
       "      <td>HG</td>\n",
       "      <td>standard</td>\n",
       "      <td>True</td>\n",
       "      <td>Q04742</td>\n",
       "      <td>MM</td>\n",
       "      <td>standard</td>\n",
       "      <td>True</td>\n",
       "    </tr>\n",
       "    <tr>\n",
       "      <th>9420</th>\n",
       "      <td>G5CBQ9</td>\n",
       "      <td>HG</td>\n",
       "      <td>standard</td>\n",
       "      <td>True</td>\n",
       "      <td>Q64105</td>\n",
       "      <td>MM</td>\n",
       "      <td>standard</td>\n",
       "      <td>True</td>\n",
       "    </tr>\n",
       "    <tr>\n",
       "      <th>9421</th>\n",
       "      <td>G5CBR0</td>\n",
       "      <td>HG</td>\n",
       "      <td>standard</td>\n",
       "      <td>True</td>\n",
       "      <td>A6H5Z3</td>\n",
       "      <td>MM</td>\n",
       "      <td>standard</td>\n",
       "      <td>True</td>\n",
       "    </tr>\n",
       "  </tbody>\n",
       "</table>\n",
       "<p>9422 rows × 8 columns</p>\n",
       "</div>"
      ],
      "text/plain": [
       "     proteinID_x organism_x description_x  valid_cds_x proteinID_y organism_y  \\\n",
       "0         E3VX36         HG      standard         True      P51910         MM   \n",
       "1         E3VX52         HG      standard         True      P23927         MM   \n",
       "2         E3VX64         HG      standard         True      P34884         MM   \n",
       "3         E3VX68         HG      standard         True      Q9D7M8         MM   \n",
       "4         E3VX70         HG      standard         True      P61514         MM   \n",
       "...          ...        ...           ...          ...         ...        ...   \n",
       "9417      G5CBQ5         HG      standard         True      Q3TYX3         MM   \n",
       "9418      G5CBQ6         HG      standard         True      Q8R361         MM   \n",
       "9419      G5CBQ8         HG      standard         True      Q04742         MM   \n",
       "9420      G5CBQ9         HG      standard         True      Q64105         MM   \n",
       "9421      G5CBR0         HG      standard         True      A6H5Z3         MM   \n",
       "\n",
       "     description_y  valid_cds_y  \n",
       "0         standard         True  \n",
       "1         standard         True  \n",
       "2         standard         True  \n",
       "3         standard         True  \n",
       "4         standard         True  \n",
       "...            ...          ...  \n",
       "9417      standard         True  \n",
       "9418      standard         True  \n",
       "9419      standard         True  \n",
       "9420      standard         True  \n",
       "9421      standard         True  \n",
       "\n",
       "[9422 rows x 8 columns]"
      ]
     },
     "execution_count": 16,
     "metadata": {},
     "output_type": "execute_result"
    }
   ],
   "source": [
    "ortho_cds_valids"
   ]
  },
  {
   "cell_type": "code",
   "execution_count": 17,
   "metadata": {},
   "outputs": [],
   "source": [
    "#### Number of valid cds pairs\n",
    "ortho_cds_valids.to_csv('../../data/mutation_tolerance/ortho_valids_cds.csv', sep='\\t', index=False)"
   ]
  },
  {
   "cell_type": "code",
   "execution_count": 18,
   "metadata": {},
   "outputs": [
    {
     "data": {
      "text/html": [
       "<div>\n",
       "<style scoped>\n",
       "    .dataframe tbody tr th:only-of-type {\n",
       "        vertical-align: middle;\n",
       "    }\n",
       "\n",
       "    .dataframe tbody tr th {\n",
       "        vertical-align: top;\n",
       "    }\n",
       "\n",
       "    .dataframe thead th {\n",
       "        text-align: right;\n",
       "    }\n",
       "</style>\n",
       "<table border=\"1\" class=\"dataframe\">\n",
       "  <thead>\n",
       "    <tr style=\"text-align: right;\">\n",
       "      <th></th>\n",
       "      <th>proteinID_x</th>\n",
       "      <th>organism_x</th>\n",
       "      <th>description_x</th>\n",
       "      <th>valid_cds_x</th>\n",
       "      <th>proteinID_y</th>\n",
       "      <th>organism_y</th>\n",
       "      <th>description_y</th>\n",
       "      <th>valid_cds_y</th>\n",
       "    </tr>\n",
       "  </thead>\n",
       "  <tbody>\n",
       "    <tr>\n",
       "      <th>0</th>\n",
       "      <td>E3VX36</td>\n",
       "      <td>HG</td>\n",
       "      <td>standard</td>\n",
       "      <td>True</td>\n",
       "      <td>P51910</td>\n",
       "      <td>MM</td>\n",
       "      <td>standard</td>\n",
       "      <td>True</td>\n",
       "    </tr>\n",
       "    <tr>\n",
       "      <th>2</th>\n",
       "      <td>E3VX64</td>\n",
       "      <td>HG</td>\n",
       "      <td>standard</td>\n",
       "      <td>True</td>\n",
       "      <td>P34884</td>\n",
       "      <td>MM</td>\n",
       "      <td>standard</td>\n",
       "      <td>True</td>\n",
       "    </tr>\n",
       "    <tr>\n",
       "      <th>21</th>\n",
       "      <td>G5AJR9</td>\n",
       "      <td>HG</td>\n",
       "      <td>standard</td>\n",
       "      <td>True</td>\n",
       "      <td>Q8BZ60</td>\n",
       "      <td>MM</td>\n",
       "      <td>standard</td>\n",
       "      <td>True</td>\n",
       "    </tr>\n",
       "    <tr>\n",
       "      <th>22</th>\n",
       "      <td>G5AJS0</td>\n",
       "      <td>HG</td>\n",
       "      <td>standard</td>\n",
       "      <td>True</td>\n",
       "      <td>Q99PM3</td>\n",
       "      <td>MM</td>\n",
       "      <td>standard</td>\n",
       "      <td>True</td>\n",
       "    </tr>\n",
       "    <tr>\n",
       "      <th>26</th>\n",
       "      <td>G5AJS7</td>\n",
       "      <td>HG</td>\n",
       "      <td>standard</td>\n",
       "      <td>True</td>\n",
       "      <td>Q62086</td>\n",
       "      <td>MM</td>\n",
       "      <td>standard</td>\n",
       "      <td>True</td>\n",
       "    </tr>\n",
       "    <tr>\n",
       "      <th>...</th>\n",
       "      <td>...</td>\n",
       "      <td>...</td>\n",
       "      <td>...</td>\n",
       "      <td>...</td>\n",
       "      <td>...</td>\n",
       "      <td>...</td>\n",
       "      <td>...</td>\n",
       "      <td>...</td>\n",
       "    </tr>\n",
       "    <tr>\n",
       "      <th>9397</th>\n",
       "      <td>G5CBL6</td>\n",
       "      <td>HG</td>\n",
       "      <td>standard</td>\n",
       "      <td>True</td>\n",
       "      <td>Q78XR0</td>\n",
       "      <td>MM</td>\n",
       "      <td>standard</td>\n",
       "      <td>True</td>\n",
       "    </tr>\n",
       "    <tr>\n",
       "      <th>9409</th>\n",
       "      <td>G5CBN2</td>\n",
       "      <td>HG</td>\n",
       "      <td>standard</td>\n",
       "      <td>True</td>\n",
       "      <td>Q9Z2F6</td>\n",
       "      <td>MM</td>\n",
       "      <td>standard</td>\n",
       "      <td>True</td>\n",
       "    </tr>\n",
       "    <tr>\n",
       "      <th>9412</th>\n",
       "      <td>G5CBP7</td>\n",
       "      <td>HG</td>\n",
       "      <td>standard</td>\n",
       "      <td>True</td>\n",
       "      <td>Q8C1M2</td>\n",
       "      <td>MM</td>\n",
       "      <td>standard</td>\n",
       "      <td>True</td>\n",
       "    </tr>\n",
       "    <tr>\n",
       "      <th>9413</th>\n",
       "      <td>G5CBQ1</td>\n",
       "      <td>HG</td>\n",
       "      <td>standard</td>\n",
       "      <td>True</td>\n",
       "      <td>Q8K4E0</td>\n",
       "      <td>MM</td>\n",
       "      <td>standard</td>\n",
       "      <td>True</td>\n",
       "    </tr>\n",
       "    <tr>\n",
       "      <th>9420</th>\n",
       "      <td>G5CBQ9</td>\n",
       "      <td>HG</td>\n",
       "      <td>standard</td>\n",
       "      <td>True</td>\n",
       "      <td>Q64105</td>\n",
       "      <td>MM</td>\n",
       "      <td>standard</td>\n",
       "      <td>True</td>\n",
       "    </tr>\n",
       "  </tbody>\n",
       "</table>\n",
       "<p>1291 rows × 8 columns</p>\n",
       "</div>"
      ],
      "text/plain": [
       "     proteinID_x organism_x description_x  valid_cds_x proteinID_y organism_y  \\\n",
       "0         E3VX36         HG      standard         True      P51910         MM   \n",
       "2         E3VX64         HG      standard         True      P34884         MM   \n",
       "21        G5AJR9         HG      standard         True      Q8BZ60         MM   \n",
       "22        G5AJS0         HG      standard         True      Q99PM3         MM   \n",
       "26        G5AJS7         HG      standard         True      Q62086         MM   \n",
       "...          ...        ...           ...          ...         ...        ...   \n",
       "9397      G5CBL6         HG      standard         True      Q78XR0         MM   \n",
       "9409      G5CBN2         HG      standard         True      Q9Z2F6         MM   \n",
       "9412      G5CBP7         HG      standard         True      Q8C1M2         MM   \n",
       "9413      G5CBQ1         HG      standard         True      Q8K4E0         MM   \n",
       "9420      G5CBQ9         HG      standard         True      Q64105         MM   \n",
       "\n",
       "     description_y  valid_cds_y  \n",
       "0         standard         True  \n",
       "2         standard         True  \n",
       "21        standard         True  \n",
       "22        standard         True  \n",
       "26        standard         True  \n",
       "...            ...          ...  \n",
       "9397      standard         True  \n",
       "9409      standard         True  \n",
       "9412      standard         True  \n",
       "9413      standard         True  \n",
       "9420      standard         True  \n",
       "\n",
       "[1291 rows x 8 columns]"
      ]
     },
     "execution_count": 18,
     "metadata": {},
     "output_type": "execute_result"
    }
   ],
   "source": [
    "#### Number of valid cds pairs (chaperone client proteins)\n",
    "ortho_cds_valids[ortho_cds_valids['proteinID_y'].isin(mm_chap_clt)]"
   ]
  },
  {
   "cell_type": "markdown",
   "metadata": {},
   "source": [
    "#### Tango execution time\n",
    "\n",
    "- Shortest protein (Q00LT2 - length=53 aa)\n",
    "    - Time execution in Tango: 0.024s\n",
    "- Longest protein (G5C996 - length=10159 aa)\n",
    "    - Time execution in Tango: 5.116s\n"
   ]
  },
  {
   "cell_type": "markdown",
   "metadata": {},
   "source": [
    "## 3. Check number of mutants per protein"
   ]
  },
  {
   "cell_type": "code",
   "execution_count": 19,
   "metadata": {},
   "outputs": [],
   "source": [
    "HG_all_count = pd.read_csv('../../data/mutation_tolerance/HG_all_mutants_counts.csv').rename(columns={'proteinID':'proteinID_x'})\n",
    "MM_all_count = pd.read_csv('../../data/mutation_tolerance/MM_all_mutants_counts.csv').rename(columns={'proteinID':'proteinID_y'})"
   ]
  },
  {
   "cell_type": "code",
   "execution_count": 20,
   "metadata": {},
   "outputs": [
    {
     "data": {
      "text/html": [
       "<div>\n",
       "<style scoped>\n",
       "    .dataframe tbody tr th:only-of-type {\n",
       "        vertical-align: middle;\n",
       "    }\n",
       "\n",
       "    .dataframe tbody tr th {\n",
       "        vertical-align: top;\n",
       "    }\n",
       "\n",
       "    .dataframe thead th {\n",
       "        text-align: right;\n",
       "    }\n",
       "</style>\n",
       "<table border=\"1\" class=\"dataframe\">\n",
       "  <thead>\n",
       "    <tr style=\"text-align: right;\">\n",
       "      <th></th>\n",
       "      <th>all_MT</th>\n",
       "      <th>unique_MT</th>\n",
       "      <th>length_x</th>\n",
       "    </tr>\n",
       "  </thead>\n",
       "  <tbody>\n",
       "    <tr>\n",
       "      <th>count</th>\n",
       "      <td>127.000000</td>\n",
       "      <td>127.000000</td>\n",
       "      <td>127.000000</td>\n",
       "    </tr>\n",
       "    <tr>\n",
       "      <th>mean</th>\n",
       "      <td>29626.023622</td>\n",
       "      <td>20348.606299</td>\n",
       "      <td>3290.755906</td>\n",
       "    </tr>\n",
       "    <tr>\n",
       "      <th>std</th>\n",
       "      <td>9488.011921</td>\n",
       "      <td>6485.892454</td>\n",
       "      <td>1054.229951</td>\n",
       "    </tr>\n",
       "    <tr>\n",
       "      <th>min</th>\n",
       "      <td>21709.000000</td>\n",
       "      <td>15025.000000</td>\n",
       "      <td>2411.000000</td>\n",
       "    </tr>\n",
       "    <tr>\n",
       "      <th>25%</th>\n",
       "      <td>23396.500000</td>\n",
       "      <td>16056.500000</td>\n",
       "      <td>2598.500000</td>\n",
       "    </tr>\n",
       "    <tr>\n",
       "      <th>50%</th>\n",
       "      <td>26038.000000</td>\n",
       "      <td>17923.000000</td>\n",
       "      <td>2892.000000</td>\n",
       "    </tr>\n",
       "    <tr>\n",
       "      <th>75%</th>\n",
       "      <td>33022.000000</td>\n",
       "      <td>22818.000000</td>\n",
       "      <td>3668.500000</td>\n",
       "    </tr>\n",
       "    <tr>\n",
       "      <th>max</th>\n",
       "      <td>91441.000000</td>\n",
       "      <td>61617.000000</td>\n",
       "      <td>10159.000000</td>\n",
       "    </tr>\n",
       "  </tbody>\n",
       "</table>\n",
       "</div>"
      ],
      "text/plain": [
       "             all_MT     unique_MT      length_x\n",
       "count    127.000000    127.000000    127.000000\n",
       "mean   29626.023622  20348.606299   3290.755906\n",
       "std     9488.011921   6485.892454   1054.229951\n",
       "min    21709.000000  15025.000000   2411.000000\n",
       "25%    23396.500000  16056.500000   2598.500000\n",
       "50%    26038.000000  17923.000000   2892.000000\n",
       "75%    33022.000000  22818.000000   3668.500000\n",
       "max    91441.000000  61617.000000  10159.000000"
      ]
     },
     "execution_count": 20,
     "metadata": {},
     "output_type": "execute_result"
    }
   ],
   "source": [
    "HG_all_count[(HG_all_count['unique_MT'] > 15000)].merge(all_agg_scores[['proteinID_x','length_x']], on='proteinID_x').describe()"
   ]
  },
  {
   "cell_type": "code",
   "execution_count": 21,
   "metadata": {},
   "outputs": [
    {
     "data": {
      "text/html": [
       "<div>\n",
       "<style scoped>\n",
       "    .dataframe tbody tr th:only-of-type {\n",
       "        vertical-align: middle;\n",
       "    }\n",
       "\n",
       "    .dataframe tbody tr th {\n",
       "        vertical-align: top;\n",
       "    }\n",
       "\n",
       "    .dataframe thead th {\n",
       "        text-align: right;\n",
       "    }\n",
       "</style>\n",
       "<table border=\"1\" class=\"dataframe\">\n",
       "  <thead>\n",
       "    <tr style=\"text-align: right;\">\n",
       "      <th></th>\n",
       "      <th>all_MT</th>\n",
       "      <th>unique_MT</th>\n",
       "      <th>length_y</th>\n",
       "    </tr>\n",
       "  </thead>\n",
       "  <tbody>\n",
       "    <tr>\n",
       "      <th>count</th>\n",
       "      <td>395.000000</td>\n",
       "      <td>395.000000</td>\n",
       "      <td>395.000000</td>\n",
       "    </tr>\n",
       "    <tr>\n",
       "      <th>mean</th>\n",
       "      <td>21111.468354</td>\n",
       "      <td>14501.881013</td>\n",
       "      <td>2356.888608</td>\n",
       "    </tr>\n",
       "    <tr>\n",
       "      <th>std</th>\n",
       "      <td>7499.921152</td>\n",
       "      <td>5176.663823</td>\n",
       "      <td>843.934391</td>\n",
       "    </tr>\n",
       "    <tr>\n",
       "      <th>min</th>\n",
       "      <td>14473.000000</td>\n",
       "      <td>10012.000000</td>\n",
       "      <td>1607.000000</td>\n",
       "    </tr>\n",
       "    <tr>\n",
       "      <th>25%</th>\n",
       "      <td>16201.000000</td>\n",
       "      <td>11111.500000</td>\n",
       "      <td>1804.000000</td>\n",
       "    </tr>\n",
       "    <tr>\n",
       "      <th>50%</th>\n",
       "      <td>18325.000000</td>\n",
       "      <td>12623.000000</td>\n",
       "      <td>2055.000000</td>\n",
       "    </tr>\n",
       "    <tr>\n",
       "      <th>75%</th>\n",
       "      <td>23338.000000</td>\n",
       "      <td>15996.500000</td>\n",
       "      <td>2602.500000</td>\n",
       "    </tr>\n",
       "    <tr>\n",
       "      <th>max</th>\n",
       "      <td>66547.000000</td>\n",
       "      <td>46086.000000</td>\n",
       "      <td>7393.000000</td>\n",
       "    </tr>\n",
       "  </tbody>\n",
       "</table>\n",
       "</div>"
      ],
      "text/plain": [
       "             all_MT     unique_MT     length_y\n",
       "count    395.000000    395.000000   395.000000\n",
       "mean   21111.468354  14501.881013  2356.888608\n",
       "std     7499.921152   5176.663823   843.934391\n",
       "min    14473.000000  10012.000000  1607.000000\n",
       "25%    16201.000000  11111.500000  1804.000000\n",
       "50%    18325.000000  12623.000000  2055.000000\n",
       "75%    23338.000000  15996.500000  2602.500000\n",
       "max    66547.000000  46086.000000  7393.000000"
      ]
     },
     "execution_count": 21,
     "metadata": {},
     "output_type": "execute_result"
    }
   ],
   "source": [
    "MM_all_count[(MM_all_count['unique_MT'] > 10000)].merge(all_agg_scores[['proteinID_y','length_y']], on='proteinID_y').describe()"
   ]
  },
  {
   "cell_type": "code",
   "execution_count": 22,
   "metadata": {},
   "outputs": [
    {
     "data": {
      "text/html": [
       "<div>\n",
       "<style scoped>\n",
       "    .dataframe tbody tr th:only-of-type {\n",
       "        vertical-align: middle;\n",
       "    }\n",
       "\n",
       "    .dataframe tbody tr th {\n",
       "        vertical-align: top;\n",
       "    }\n",
       "\n",
       "    .dataframe thead th {\n",
       "        text-align: right;\n",
       "    }\n",
       "</style>\n",
       "<table border=\"1\" class=\"dataframe\">\n",
       "  <thead>\n",
       "    <tr style=\"text-align: right;\">\n",
       "      <th></th>\n",
       "      <th>proteinID_y</th>\n",
       "      <th>all_MT</th>\n",
       "      <th>unique_MT</th>\n",
       "    </tr>\n",
       "  </thead>\n",
       "  <tbody>\n",
       "    <tr>\n",
       "      <th>4</th>\n",
       "      <td>A0A087WQ44</td>\n",
       "      <td>29449</td>\n",
       "      <td>19754</td>\n",
       "    </tr>\n",
       "    <tr>\n",
       "      <th>13</th>\n",
       "      <td>A0A0G2JG52</td>\n",
       "      <td>18595</td>\n",
       "      <td>12759</td>\n",
       "    </tr>\n",
       "    <tr>\n",
       "      <th>24</th>\n",
       "      <td>A0A140LI88</td>\n",
       "      <td>15895</td>\n",
       "      <td>10996</td>\n",
       "    </tr>\n",
       "    <tr>\n",
       "      <th>26</th>\n",
       "      <td>A0A140LIW3</td>\n",
       "      <td>15976</td>\n",
       "      <td>10879</td>\n",
       "    </tr>\n",
       "    <tr>\n",
       "      <th>27</th>\n",
       "      <td>A0A140LIY9</td>\n",
       "      <td>21043</td>\n",
       "      <td>14347</td>\n",
       "    </tr>\n",
       "    <tr>\n",
       "      <th>...</th>\n",
       "      <td>...</td>\n",
       "      <td>...</td>\n",
       "      <td>...</td>\n",
       "    </tr>\n",
       "    <tr>\n",
       "      <th>10579</th>\n",
       "      <td>Q9WVF7</td>\n",
       "      <td>20557</td>\n",
       "      <td>14203</td>\n",
       "    </tr>\n",
       "    <tr>\n",
       "      <th>10643</th>\n",
       "      <td>Q9Z0R4</td>\n",
       "      <td>15436</td>\n",
       "      <td>10618</td>\n",
       "    </tr>\n",
       "    <tr>\n",
       "      <th>10724</th>\n",
       "      <td>Q9Z1T6</td>\n",
       "      <td>18883</td>\n",
       "      <td>13047</td>\n",
       "    </tr>\n",
       "    <tr>\n",
       "      <th>10792</th>\n",
       "      <td>Q9Z2U2</td>\n",
       "      <td>24292</td>\n",
       "      <td>16872</td>\n",
       "    </tr>\n",
       "    <tr>\n",
       "      <th>10813</th>\n",
       "      <td>S4R299</td>\n",
       "      <td>16633</td>\n",
       "      <td>11480</td>\n",
       "    </tr>\n",
       "  </tbody>\n",
       "</table>\n",
       "<p>392 rows × 3 columns</p>\n",
       "</div>"
      ],
      "text/plain": [
       "      proteinID_y  all_MT  unique_MT\n",
       "4      A0A087WQ44   29449      19754\n",
       "13     A0A0G2JG52   18595      12759\n",
       "24     A0A140LI88   15895      10996\n",
       "26     A0A140LIW3   15976      10879\n",
       "27     A0A140LIY9   21043      14347\n",
       "...           ...     ...        ...\n",
       "10579      Q9WVF7   20557      14203\n",
       "10643      Q9Z0R4   15436      10618\n",
       "10724      Q9Z1T6   18883      13047\n",
       "10792      Q9Z2U2   24292      16872\n",
       "10813      S4R299   16633      11480\n",
       "\n",
       "[392 rows x 3 columns]"
      ]
     },
     "execution_count": 22,
     "metadata": {},
     "output_type": "execute_result"
    }
   ],
   "source": [
    "MM_all_count[(MM_all_count['unique_MT'] > 10000) & (MM_all_count['unique_MT'] < 20000)]"
   ]
  },
  {
   "cell_type": "code",
   "execution_count": 23,
   "metadata": {},
   "outputs": [
    {
     "data": {
      "text/html": [
       "<div>\n",
       "<style scoped>\n",
       "    .dataframe tbody tr th:only-of-type {\n",
       "        vertical-align: middle;\n",
       "    }\n",
       "\n",
       "    .dataframe tbody tr th {\n",
       "        vertical-align: top;\n",
       "    }\n",
       "\n",
       "    .dataframe thead th {\n",
       "        text-align: right;\n",
       "    }\n",
       "</style>\n",
       "<table border=\"1\" class=\"dataframe\">\n",
       "  <thead>\n",
       "    <tr style=\"text-align: right;\">\n",
       "      <th></th>\n",
       "      <th>proteinID_x</th>\n",
       "      <th>all_MT</th>\n",
       "      <th>unique_MT</th>\n",
       "    </tr>\n",
       "  </thead>\n",
       "  <tbody>\n",
       "    <tr>\n",
       "      <th>6</th>\n",
       "      <td>G5AJK4</td>\n",
       "      <td>23347</td>\n",
       "      <td>16368</td>\n",
       "    </tr>\n",
       "    <tr>\n",
       "      <th>36</th>\n",
       "      <td>G5AJU2</td>\n",
       "      <td>14797</td>\n",
       "      <td>10217</td>\n",
       "    </tr>\n",
       "    <tr>\n",
       "      <th>43</th>\n",
       "      <td>G5AJV3</td>\n",
       "      <td>15634</td>\n",
       "      <td>10690</td>\n",
       "    </tr>\n",
       "    <tr>\n",
       "      <th>74</th>\n",
       "      <td>G5AK08</td>\n",
       "      <td>15625</td>\n",
       "      <td>10776</td>\n",
       "    </tr>\n",
       "    <tr>\n",
       "      <th>76</th>\n",
       "      <td>G5AK10</td>\n",
       "      <td>17758</td>\n",
       "      <td>12367</td>\n",
       "    </tr>\n",
       "    <tr>\n",
       "      <th>...</th>\n",
       "      <td>...</td>\n",
       "      <td>...</td>\n",
       "      <td>...</td>\n",
       "    </tr>\n",
       "    <tr>\n",
       "      <th>10808</th>\n",
       "      <td>G5CB46</td>\n",
       "      <td>18901</td>\n",
       "      <td>13108</td>\n",
       "    </tr>\n",
       "    <tr>\n",
       "      <th>10825</th>\n",
       "      <td>G5CB89</td>\n",
       "      <td>15589</td>\n",
       "      <td>10901</td>\n",
       "    </tr>\n",
       "    <tr>\n",
       "      <th>10881</th>\n",
       "      <td>G5CBI8</td>\n",
       "      <td>16264</td>\n",
       "      <td>11155</td>\n",
       "    </tr>\n",
       "    <tr>\n",
       "      <th>10890</th>\n",
       "      <td>G5CBK3</td>\n",
       "      <td>18073</td>\n",
       "      <td>12419</td>\n",
       "    </tr>\n",
       "    <tr>\n",
       "      <th>10919</th>\n",
       "      <td>G5CBQ1</td>\n",
       "      <td>34534</td>\n",
       "      <td>23776</td>\n",
       "    </tr>\n",
       "  </tbody>\n",
       "</table>\n",
       "<p>476 rows × 3 columns</p>\n",
       "</div>"
      ],
      "text/plain": [
       "      proteinID_x  all_MT  unique_MT\n",
       "6          G5AJK4   23347      16368\n",
       "36         G5AJU2   14797      10217\n",
       "43         G5AJV3   15634      10690\n",
       "74         G5AK08   15625      10776\n",
       "76         G5AK10   17758      12367\n",
       "...           ...     ...        ...\n",
       "10808      G5CB46   18901      13108\n",
       "10825      G5CB89   15589      10901\n",
       "10881      G5CBI8   16264      11155\n",
       "10890      G5CBK3   18073      12419\n",
       "10919      G5CBQ1   34534      23776\n",
       "\n",
       "[476 rows x 3 columns]"
      ]
     },
     "execution_count": 23,
     "metadata": {},
     "output_type": "execute_result"
    }
   ],
   "source": [
    "HG_all_count[HG_all_count['unique_MT'] > 10000]\n"
   ]
  },
  {
   "cell_type": "code",
   "execution_count": 24,
   "metadata": {},
   "outputs": [
    {
     "data": {
      "text/plain": [
       "69896045"
      ]
     },
     "execution_count": 24,
     "metadata": {},
     "output_type": "execute_result"
    }
   ],
   "source": [
    "ALL_HG = sum(HG_all_count[HG_all_count['proteinID_x'].isin(ortho_cds_valids['proteinID_x'])]['unique_MT'])\n",
    "ALL_MM = sum(MM_all_count[MM_all_count['proteinID_y'].isin(ortho_cds_valids['proteinID_y'])]['unique_MT'])\n",
    "ALL_HG + ALL_MM"
   ]
  },
  {
   "cell_type": "code",
   "execution_count": 25,
   "metadata": {},
   "outputs": [],
   "source": [
    "HG_chap_clt_count = pd.read_csv('../../data/mutation_tolerance/HG_chap_client_mutants_counts.csv').rename(columns={'proteinID':'proteinID_x'})\n",
    "MM_chap_clt_count = pd.read_csv('../../data/mutation_tolerance/MM_chap_client_mutants_counts.csv').rename(columns={'proteinID':'proteinID_y'})"
   ]
  },
  {
   "cell_type": "code",
   "execution_count": 26,
   "metadata": {},
   "outputs": [
    {
     "data": {
      "text/plain": [
       "10071232"
      ]
     },
     "execution_count": 26,
     "metadata": {},
     "output_type": "execute_result"
    }
   ],
   "source": [
    "CHAP_CLT_HG = sum(HG_chap_clt_count[HG_chap_clt_count['proteinID_x'].isin(ortho_cds_valids['proteinID_x'])]['unique_MT'])\n",
    "CHAP_CLT_MM = sum(MM_chap_clt_count[MM_chap_clt_count['proteinID_y'].isin(ortho_cds_valids['proteinID_y'])]['unique_MT'])\n",
    "CHAP_CLT_HG + CHAP_CLT_MM"
   ]
  },
  {
   "cell_type": "code",
   "execution_count": 27,
   "metadata": {},
   "outputs": [],
   "source": [
    "HG_others_count = HG_all_count[~HG_all_count['proteinID_x'].isin(HG_chap_clt_count['proteinID_x'])]\n",
    "MM_others_count = MM_all_count[~MM_all_count['proteinID_y'].isin(MM_chap_clt_count['proteinID_y'])]"
   ]
  },
  {
   "cell_type": "markdown",
   "metadata": {},
   "source": [
    "\n",
    "##### Directory list for sbatch"
   ]
  },
  {
   "cell_type": "code",
   "execution_count": null,
   "metadata": {},
   "outputs": [],
   "source": [
    "# f = open('../../data/mutation_tolerance/tango_directory_list/MM_chap_list', 'w')\n",
    "# for ID in MM_chap_clt_count['proteinID_y'].values:\n",
    "#     f.write(f'{ID}\\n')\n",
    "# f.close()    \n",
    "\n",
    "# f = open('../../data/mutation_tolerance/tango_directory_list/HG_chap_list', 'w')\n",
    "# for ID in HG_chap_clt_count['proteinID_x'].values:\n",
    "#     f.write(f'{ID}\\n')\n",
    "# f.close()    \n",
    "\n",
    "# f = open('../../data/mutation_tolerance/tango_directory_list/MM_others_list', 'w')\n",
    "# for ID in MM_others_count['proteinID_y'].values:\n",
    "#     f.write(f'{ID}\\n')\n",
    "# f.close()    \n",
    "\n",
    "# f = open('../../data/mutation_tolerance/tango_directory_list//HG_others_list', 'w')\n",
    "# for ID in HG_others_count['proteinID_x'].values:\n",
    "#     f.write(f'{ID}\\n')\n",
    "# f.close()    "
   ]
  },
  {
   "cell_type": "markdown",
   "metadata": {},
   "source": [
    "## 4. Calculation of mutation tolerance"
   ]
  },
  {
   "cell_type": "code",
   "execution_count": 29,
   "metadata": {},
   "outputs": [],
   "source": [
    "MUT_RES = '/media/savvy/DATA3/savvy/project_2018/computational_mutagenesis/FINAL_RESULTS'"
   ]
  },
  {
   "cell_type": "code",
   "execution_count": 30,
   "metadata": {},
   "outputs": [],
   "source": [
    "def count_final_agg_score(proteinID, MM_all_count, HG_all_count, MUT_RES):\n",
    "    if proteinID in MM_all_count['proteinID_y'].values:\n",
    "        exp = int(MM_all_count[ MM_all_count['proteinID_y'] == proteinID ]['unique_MT'].values)\n",
    "    elif proteinID in HG_all_count['proteinID_x'].values:\n",
    "        exp = int(HG_all_count[ HG_all_count['proteinID_x'] == proteinID ]['unique_MT'].values)\n",
    "\n",
    "    if f'{proteinID}_aggregation.txt' in os.listdir(MUT_RES):\n",
    "        agg_tmp = pd.read_csv(os.path.join(MUT_RES,f'{proteinID}_aggregation.txt'), sep='\\t')\n",
    "        real = len(agg_tmp)\n",
    "            \n",
    "    if exp == real :\n",
    "        return True\n",
    "    else:\n",
    "        return False\n",
    "\n",
    "def get_Seq(seqID, org):\n",
    "    if 'MM' in org :\n",
    "        for seqRecord in SeqIO.parse(MM_cds_fasta, format='fasta'):\n",
    "            if seqRecord.id == seqID :\n",
    "                return seqRecord\n",
    "    elif 'HG' in org : \n",
    "        for seqRecord in SeqIO.parse(HG_cds_fasta, format='fasta'):\n",
    "            if seqRecord.id == seqID :\n",
    "                return seqRecord\n",
    "\n",
    "def calculate_mutation_metrics(agg_table, seqRecord, threshold):\n",
    "    ### Normalized delta Mutational Aggregation Propensity\n",
    "    seq_length = len(seqRecord.seq.translate().replace('*', ''))\n",
    "    agg_table['deltaAgg'] = agg_table['Aggregation'] / seq_length - agg_table['Aggregation'][0] / seq_length\n",
    "    agg_table = agg_table[1:]\n",
    "    mutTol = len(agg_table[agg_table['deltaMut'] == 0 ]) / len(agg_table)\n",
    "    mutVul = len(agg_table[agg_table['deltaMut'] > threshold]) / len(agg_table)\n",
    "    return mutTol, mutVul\n",
    "\n",
    "\n",
    "def mutation_metrics_table(all_agg_scores, threshold):\n",
    "    tmp = []\n",
    "    bar = progressbar.ProgressBar()\n",
    "    for X, Y in bar(all_agg_scores[['proteinID_x', 'proteinID_y']].values):\n",
    "        try:\n",
    "            if f'{X}_aggregation.txt' in os.listdir(MUT_RES):\n",
    "                HG_tmp = pd.read_csv(os.path.join(MUT_RES,f'{X}_aggregation.txt'), sep='\\t')\n",
    "                MM_tmp = pd.read_csv(os.path.join(MUT_RES,f'{Y}_aggregation.txt'), sep='\\t')\n",
    "                mutTol_x, mutVul_x = calculate_mutation_metrics(HG_tmp, get_Seq(X, 'HG'), threshold)\n",
    "                mutTol_y, mutVul_y = calculate_mutation_metrics(MM_tmp, get_Seq(Y, 'MM'),  threshold)\n",
    "                tmp.append([X, mutTol_x, mutVul_x, Y, mutTol_y, mutVul_y])\n",
    "        except:\n",
    "            pass\n",
    "    mutation_metrics_table = pd.DataFrame(tmp, columns=['proteinID_x', 'mutTol_x', 'mutVul_x' ,'proteinID_y', 'mutTol_y', 'mutVul_y'])\n",
    "    \n",
    "    aggregation_table = all_agg_scores[['proteinID_x', 'Aggregation_x', 'length_x', 'proteinID_y', 'Aggregation_y', 'length_y']]\n",
    "    aggregation_table = aggregation_table[aggregation_table['proteinID_x'].isin(mutation_metrics_table['proteinID_x'])]\n",
    "    \n",
    "    TABLE = mutation_metrics_table.merge(aggregation_table, on=['proteinID_x', 'proteinID_y']) \n",
    "    return TABLE"
   ]
  },
  {
   "cell_type": "code",
   "execution_count": 31,
   "metadata": {},
   "outputs": [
    {
     "name": "stderr",
     "output_type": "stream",
     "text": [
      "100%|██████████| 21651/21651 [04:55<00:00, 73.20it/s]\n"
     ]
    }
   ],
   "source": [
    "tmp = []\n",
    "bar = progressbar.ProgressBar()\n",
    "for agg_table in tqdm(os.listdir(MUT_RES)):\n",
    "    protein = agg_table.split('_')[0]\n",
    "    tmp.append([protein, count_final_agg_score(protein, MM_all_count, HG_all_count, MUT_RES)])\n",
    "check_final_mutants = pd.DataFrame(tmp, columns=['proteinID', 'all_tango_run'])"
   ]
  },
  {
   "cell_type": "code",
   "execution_count": 33,
   "metadata": {},
   "outputs": [],
   "source": [
    "mutant_size = []\n",
    "for ID in check_final_mutants[check_final_mutants['all_tango_run'] == False]['proteinID']:\n",
    "    if ID in MM_all_count['proteinID_y'].values:\n",
    "        size = MM_all_count[MM_all_count['proteinID_y'] == ID]['unique_MT'].values[0]\n",
    "    elif ID in HG_all_count['proteinID_x'].values:\n",
    "        size = HG_all_count[HG_all_count['proteinID_x'] == ID]['unique_MT'].values[0]\n",
    "    mutant_size.append([ID, size])\n",
    "check_bug_mutants = pd.DataFrame(mutant_size, columns=['proteinID', 'nb_mutants'])"
   ]
  },
  {
   "cell_type": "code",
   "execution_count": 34,
   "metadata": {},
   "outputs": [
    {
     "data": {
      "text/html": [
       "<div>\n",
       "<style scoped>\n",
       "    .dataframe tbody tr th:only-of-type {\n",
       "        vertical-align: middle;\n",
       "    }\n",
       "\n",
       "    .dataframe tbody tr th {\n",
       "        vertical-align: top;\n",
       "    }\n",
       "\n",
       "    .dataframe thead th {\n",
       "        text-align: right;\n",
       "    }\n",
       "</style>\n",
       "<table border=\"1\" class=\"dataframe\">\n",
       "  <thead>\n",
       "    <tr style=\"text-align: right;\">\n",
       "      <th></th>\n",
       "      <th>proteinID</th>\n",
       "      <th>nb_mutants</th>\n",
       "    </tr>\n",
       "  </thead>\n",
       "  <tbody>\n",
       "    <tr>\n",
       "      <th>0</th>\n",
       "      <td>Q91ZU6</td>\n",
       "      <td>46086</td>\n",
       "    </tr>\n",
       "    <tr>\n",
       "      <th>1</th>\n",
       "      <td>G5B601</td>\n",
       "      <td>36782</td>\n",
       "    </tr>\n",
       "    <tr>\n",
       "      <th>2</th>\n",
       "      <td>B1AR51</td>\n",
       "      <td>27783</td>\n",
       "    </tr>\n",
       "    <tr>\n",
       "      <th>3</th>\n",
       "      <td>G5B5V9</td>\n",
       "      <td>30563</td>\n",
       "    </tr>\n",
       "    <tr>\n",
       "      <th>4</th>\n",
       "      <td>G5AMU8</td>\n",
       "      <td>29212</td>\n",
       "    </tr>\n",
       "    <tr>\n",
       "      <th>5</th>\n",
       "      <td>G5C8Z7</td>\n",
       "      <td>34644</td>\n",
       "    </tr>\n",
       "    <tr>\n",
       "      <th>6</th>\n",
       "      <td>E9Q1W3</td>\n",
       "      <td>45464</td>\n",
       "    </tr>\n",
       "    <tr>\n",
       "      <th>7</th>\n",
       "      <td>A2ANY6</td>\n",
       "      <td>34546</td>\n",
       "    </tr>\n",
       "    <tr>\n",
       "      <th>8</th>\n",
       "      <td>G5AK10</td>\n",
       "      <td>12367</td>\n",
       "    </tr>\n",
       "    <tr>\n",
       "      <th>9</th>\n",
       "      <td>G5C996</td>\n",
       "      <td>61617</td>\n",
       "    </tr>\n",
       "    <tr>\n",
       "      <th>10</th>\n",
       "      <td>G5BR15</td>\n",
       "      <td>39544</td>\n",
       "    </tr>\n",
       "    <tr>\n",
       "      <th>11</th>\n",
       "      <td>G5AKD0</td>\n",
       "      <td>16165</td>\n",
       "    </tr>\n",
       "    <tr>\n",
       "      <th>12</th>\n",
       "      <td>G5C0E1</td>\n",
       "      <td>55187</td>\n",
       "    </tr>\n",
       "    <tr>\n",
       "      <th>13</th>\n",
       "      <td>E9PZP8</td>\n",
       "      <td>29745</td>\n",
       "    </tr>\n",
       "  </tbody>\n",
       "</table>\n",
       "</div>"
      ],
      "text/plain": [
       "   proteinID  nb_mutants\n",
       "0     Q91ZU6       46086\n",
       "1     G5B601       36782\n",
       "2     B1AR51       27783\n",
       "3     G5B5V9       30563\n",
       "4     G5AMU8       29212\n",
       "5     G5C8Z7       34644\n",
       "6     E9Q1W3       45464\n",
       "7     A2ANY6       34546\n",
       "8     G5AK10       12367\n",
       "9     G5C996       61617\n",
       "10    G5BR15       39544\n",
       "11    G5AKD0       16165\n",
       "12    G5C0E1       55187\n",
       "13    E9PZP8       29745"
      ]
     },
     "execution_count": 34,
     "metadata": {},
     "output_type": "execute_result"
    }
   ],
   "source": [
    "check_bug_mutants"
   ]
  },
  {
   "cell_type": "code",
   "execution_count": 75,
   "metadata": {},
   "outputs": [
    {
     "name": "stderr",
     "output_type": "stream",
     "text": [
      "100% (2 of 2) |##########################| Elapsed Time: 0:00:00 Time:  0:00:00\n"
     ]
    }
   ],
   "source": [
    "MM_ATX = ['P28658', 'Q9CVD2']\n",
    "MT_2_ATX = mutation_metrics_table(all_agg_scores[all_agg_scores['proteinID_y'].isin(MM_ATX)], 2)"
   ]
  },
  {
   "cell_type": "code",
   "execution_count": 41,
   "metadata": {},
   "outputs": [
    {
     "name": "stderr",
     "output_type": "stream",
     "text": [
      "100% (9522 of 9522) |####################| Elapsed Time: 0:33:22 Time:  0:33:22\n"
     ]
    },
    {
     "name": "stdout",
     "output_type": "stream",
     "text": [
      "CPU times: user 31min 38s, sys: 2min 1s, total: 33min 39s\n",
      "Wall time: 33min 22s\n"
     ]
    }
   ],
   "source": [
    "%%time\n",
    "MT_2 = mutation_metrics_table(all_agg_scores, 2)\n",
    "MT_2 = MT_2[~(MT_2['proteinID_x'].isin(check_bug_mutants['proteinID'])) | (MT_2['proteinID_y'].isin(check_bug_mutants['proteinID']))]"
   ]
  },
  {
   "cell_type": "code",
   "execution_count": null,
   "metadata": {},
   "outputs": [],
   "source": [
    "MT_2.to_csv('../../data/mutation_tolerance/all_mt_scores.csv', sep='\\t', index=False)"
   ]
  },
  {
   "cell_type": "markdown",
   "metadata": {},
   "source": [
    "__________"
   ]
  },
  {
   "cell_type": "markdown",
   "metadata": {},
   "source": [
    "## Data for revisions"
   ]
  },
  {
   "cell_type": "markdown",
   "metadata": {},
   "source": [
    "#### Variations of definition in mutation tolerance"
   ]
  },
  {
   "cell_type": "code",
   "execution_count": 52,
   "metadata": {},
   "outputs": [],
   "source": [
    "def get_Seq(seqID, org):\n",
    "    if 'MM' in org :\n",
    "        for seqRecord in SeqIO.parse(MM_cds_fasta, format='fasta'):\n",
    "            if seqRecord.id == seqID :\n",
    "                return seqRecord\n",
    "    elif 'HG' in org : \n",
    "        for seqRecord in SeqIO.parse(HG_cds_fasta, format='fasta'):\n",
    "            if seqRecord.id == seqID :\n",
    "                return seqRecord\n",
    "\n",
    "def isValid(seq_id, seqRecord):\n",
    "    i = int(seq_id.split('_')[1])\n",
    "    ALT = seq_id.split('_')[2][1]\n",
    "\n",
    "    REF_SEQ = str(seqRecord.seq.translate(to_stop=True))\n",
    "    mutant = MutableSeq(str(seqRecord.seq))\n",
    "    mutant[i] = ALT\n",
    "    ALT_SEQ = str(Seq(str(mutant)).translate(to_stop=True))\n",
    "\n",
    "    if len(REF_SEQ) != len(ALT_SEQ) :\n",
    "        return False \n",
    "    elif str(ALT_SEQ)[0] != 'M' :\n",
    "        return False \n",
    "    else :\n",
    "        return True \n",
    "\n",
    "def calculate_mutation_metrics(agg_table, seqRecord, threshold):\n",
    "    ### Normalized delta Mutational Aggregation Propensity\n",
    "    seq_length = len(seqRecord.seq.translate(to_stop=True))\n",
    "    agg_table['deltaAgg'] = agg_table['Aggregation'] / seq_length - agg_table['Aggregation'][0] / seq_length\n",
    "    \n",
    "    agg_table = agg_table[1:].reset_index(drop=True)\n",
    "    agg_table['valid_mutant'] = agg_table['Sequence'].apply(isValid, args=(seqRecord,))\n",
    "    \n",
    "    valid_mutants = agg_table[agg_table['valid_mutant'] == True]\n",
    "    mutTol_v1 = len(valid_mutants[valid_mutants['deltaAgg'] == 0 ]) / len(valid_mutants)\n",
    "    mutTol_v2 = len(valid_mutants[valid_mutants['deltaAgg'] <= 0 ]) / len(valid_mutants)\n",
    "    mutTol_v3 = len(valid_mutants[valid_mutants['deltaAgg'] >= 0 ]) / len(valid_mutants)\n",
    "    bm_r = len(valid_mutants[valid_mutants['deltaAgg'] < - threshold ]) / len(valid_mutants)\n",
    "    dm_r = len(valid_mutants[valid_mutants['deltaAgg'] > threshold ]) / len(valid_mutants)\n",
    "    return mutTol_v1, mutTol_v2, mutTol_v3, bm_r, dm_r\n",
    "\n",
    "\n",
    "def get_mutTol_scores(proteinID, org, threshold):\n",
    "     tmp = pd.read_csv(os.path.join(MUT_RES,f'{proteinID}_aggregation.txt'), sep='\\t')\n",
    "     seqRecord = get_Seq(proteinID, org)\n",
    "     mutTol_v1, mutTol_v2, mutTol_v3, bm_r, dm_r = calculate_mutation_metrics(tmp, seqRecord,  threshold)\n",
    "     return mutTol_v1, mutTol_v2, mutTol_v3, bm_r, dm_r\n",
    "\n",
    "\n",
    "def mutation_metrics_table(all_agg_scores, threshold):\n",
    "    tmp = []\n",
    "    bar = progressbar.ProgressBar()\n",
    "    for X, Y in tqdm(all_agg_scores[['proteinID_x', 'proteinID_y']].values):\n",
    "        try:\n",
    "            if f'{X}_aggregation.txt' in os.listdir(MUT_RES):\n",
    "                mutTol_v1_x, mutTol_v2_x, mutTol_v3_x, bm_r_x, dm_r_x = get_mutTol_scores(X, 'HG', threshold)\n",
    "                mutTol_v1_y, mutTol_v2_y, mutTol_v3_y, bm_r_y, dm_r_y = get_mutTol_scores(Y, 'MM', threshold)\n",
    "                tmp.append([X, mutTol_v1_x, mutTol_v2_x, mutTol_v3_x, bm_r_x, dm_r_x, Y, mutTol_v1_y, mutTol_v2_y, mutTol_v3_y, bm_r_y, dm_r_y])\n",
    "        except:\n",
    "            pass\n",
    "    cols=['proteinID_x', 'mutTol_0_x', 'mutTol_minus0_x', 'mutTol_plus0_x', 'bm_r_x', 'dm_r_x', 'proteinID_y', 'mutTol_0_y', 'mutTol_minus0_y', 'mutTol_plus0_y', 'bm_r_y', 'dm_r_y']\n",
    "    mutation_metrics_table = pd.DataFrame(tmp, columns=cols)\n",
    "    \n",
    "    aggregation_table = all_agg_scores[['proteinID_x', 'Aggregation_x', 'length_x', 'proteinID_y', 'Aggregation_y', 'length_y']]\n",
    "    aggregation_table = aggregation_table[aggregation_table['proteinID_x'].isin(mutation_metrics_table['proteinID_x'])]\n",
    "    \n",
    "    TABLE = mutation_metrics_table.merge(aggregation_table, on=['proteinID_x', 'proteinID_y']) \n",
    "    return TABLE"
   ]
  },
  {
   "cell_type": "code",
   "execution_count": 53,
   "metadata": {},
   "outputs": [
    {
     "name": "stderr",
     "output_type": "stream",
     "text": [
      "100%|██████████| 9522/9522 [14:41:21<00:00,  5.55s/it]   \n"
     ]
    }
   ],
   "source": [
    "# MM_ATX = ['P28658', 'Q9CVD2']\n",
    "MT_var = mutation_metrics_table(all_agg_scores, 1)"
   ]
  },
  {
   "cell_type": "code",
   "execution_count": 54,
   "metadata": {},
   "outputs": [],
   "source": [
    "MT_var = MT_var[~(MT_var['proteinID_x'].isin(check_bug_mutants['proteinID'])) | (MT_var['proteinID_y'].isin(check_bug_mutants['proteinID']))]"
   ]
  },
  {
   "cell_type": "code",
   "execution_count": 55,
   "metadata": {},
   "outputs": [],
   "source": [
    "MT_var.to_csv('../../data/mutation_tolerance/all_mt_scores_for_revisions.csv', sep='\\t', index=False)"
   ]
  },
  {
   "cell_type": "code",
   "execution_count": null,
   "metadata": {},
   "outputs": [],
   "source": []
  }
 ],
 "metadata": {
  "interpreter": {
   "hash": "52454c618a4204657519cbab42273bb942d0a30f08c27de48ae386072d003f99"
  },
  "kernelspec": {
   "display_name": "Python 3.8.10 64-bit ('bioinfo_3.8': conda)",
   "name": "python3"
  },
  "language_info": {
   "codemirror_mode": {
    "name": "ipython",
    "version": 3
   },
   "file_extension": ".py",
   "mimetype": "text/x-python",
   "name": "python",
   "nbconvert_exporter": "python",
   "pygments_lexer": "ipython3",
   "version": "3.8.10"
  }
 },
 "nbformat": 4,
 "nbformat_minor": 4
}
