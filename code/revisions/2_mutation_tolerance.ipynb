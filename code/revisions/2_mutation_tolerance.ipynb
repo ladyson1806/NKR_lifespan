{
 "cells": [
  {
   "cell_type": "markdown",
   "metadata": {},
   "source": [
    "# Generating panels for Figure S3"
   ]
  },
  {
   "cell_type": "code",
   "execution_count": null,
   "metadata": {},
   "outputs": [],
   "source": [
    "import os, progressbar, re, subprocess, time\n",
    "\n",
    "import numpy as np\n",
    "import pandas as pd\n",
    "import seaborn as sns\n",
    "import scipy.stats as stats\n",
    "import matplotlib.pyplot as plt\n",
    "import statsmodels.sandbox.stats.multicomp as multicomp\n",
    "\n",
    "from Bio import SeqIO\n",
    "from Bio.Seq import Seq, MutableSeq"
   ]
  },
  {
   "cell_type": "code",
   "execution_count": null,
   "metadata": {},
   "outputs": [],
   "source": [
    "def is_significant(mut_tol):\n",
    "    if mut_tol > 2:\n",
    "        return 'HIGH'\n",
    "    if mut_tol < -2:\n",
    "        return 'LOW'\n",
    "    else:\n",
    "        return 'non significant'\n",
    "\n",
    "\n",
    "def cluster(x):\n",
    "    if x in HG_high_agg['proteinID_x'].values:\n",
    "        return 'HIGH'\n",
    "    else:\n",
    "        return 'LOW'"
   ]
  },
  {
   "cell_type": "code",
   "execution_count": null,
   "metadata": {},
   "outputs": [],
   "source": [
    "HG_cds_fasta = '../../data/ortholog_dataset/uni_HG_cds_orthologs.faa'\n",
    "MM_cds_fasta = '../../data/ortholog_dataset/uni_MM_cds_orthologs.faa'"
   ]
  },
  {
   "cell_type": "code",
   "execution_count": null,
   "metadata": {},
   "outputs": [],
   "source": [
    "MM_non_valids = []\n",
    "for seqRecord in SeqIO.parse(MM_cds_fasta, format='fasta') :\n",
    "    try:\n",
    "        AA_seq = seqRecord.seq.translate(to_stop=True)\n",
    "        if AA_seq[0] != 'M':\n",
    "            MM_non_valids.append(seqRecord.id)\n",
    "    except:\n",
    "        MM_non_valids.append(seqRecord.id)"
   ]
  },
  {
   "cell_type": "code",
   "execution_count": null,
   "metadata": {},
   "outputs": [],
   "source": [
    "HG_non_valids = []\n",
    "for seqRecord in SeqIO.parse(HG_cds_fasta, format='fasta') :\n",
    "    try:\n",
    "        AA_seq = seqRecord.seq.translate(to_stop=True)\n",
    "        if AA_seq[0] != 'M':\n",
    "            HG_non_valids.append(seqRecord.id)\n",
    "    except:\n",
    "        HG_non_valids.append(seqRecord.id)"
   ]
  },
  {
   "cell_type": "code",
   "execution_count": null,
   "metadata": {},
   "outputs": [],
   "source": [
    "len(HG_non_valids)"
   ]
  },
  {
   "cell_type": "code",
   "execution_count": null,
   "metadata": {},
   "outputs": [],
   "source": [
    "#### Table with all per-protein aggregation propensity scores\n",
    "prot_agg_table = pd.read_csv('../../data/aggregation_propensity/HGMM_agg_scores.csv', sep=',')\n",
    "prot_agg_table['delta_aggregation'] = prot_agg_table['Aggregation_x'] - prot_agg_table['Aggregation_y']\n",
    "prot_agg_table['delta_agg_z-scores'] = stats.zscore(prot_agg_table['delta_aggregation'])\n",
    "prot_agg_table['difference_of_aggregation'] = prot_agg_table['delta_agg_z-scores'].apply(is_significant)\n",
    "\n",
    "prot_muttol_table = pd.read_csv('../../data/mutation_tolerance/all_mt_scores_for_revisions.csv', sep='\\t')\n",
    "\n",
    "HG_high_agg = prot_agg_table[prot_agg_table['delta_agg_z-scores'] > 2]\n",
    "HG_low_agg = prot_agg_table[prot_agg_table['delta_agg_z-scores'] < -2]\n",
    "\n",
    "sign_agg_table = prot_muttol_table[(prot_muttol_table['proteinID_x'].isin(HG_high_agg['proteinID_x'])) | (prot_muttol_table['proteinID_x'].isin(HG_low_agg['proteinID_x'])) ].reset_index(drop=True)\n",
    "sign_agg_table['AGG_DIFF'] = sign_agg_table['proteinID_x'].apply(cluster)"
   ]
  },
  {
   "cell_type": "code",
   "execution_count": null,
   "metadata": {},
   "outputs": [],
   "source": [
    "len(prot_muttol_table)"
   ]
  },
  {
   "cell_type": "code",
   "execution_count": null,
   "metadata": {},
   "outputs": [],
   "source": [
    "prot_muttol_table[(prot_muttol_table['proteinID_x'].isin(HG_non_valids)) ]"
   ]
  },
  {
   "cell_type": "code",
   "execution_count": null,
   "metadata": {},
   "outputs": [],
   "source": [
    "prot_muttol_table[~(prot_muttol_table['proteinID_x'].isin(HG_non_valids)) | (prot_muttol_table['proteinID_y'].isin(MM_non_valids))]"
   ]
  },
  {
   "cell_type": "code",
   "execution_count": null,
   "metadata": {},
   "outputs": [],
   "source": [
    "outliers = prot_muttol_table[(prot_muttol_table['proteinID_x'].isin(HG_non_valids)) | (prot_muttol_table['proteinID_y'].isin(MM_non_valids))]\n",
    "no_outliers = prot_muttol_table.drop(outliers.index)"
   ]
  },
  {
   "cell_type": "code",
   "execution_count": null,
   "metadata": {},
   "outputs": [],
   "source": [
    "def generate_figure_4A(prot_muttol_table, col_x, col_y, plot_title):\n",
    "    sns.set_context(\"paper\", font_scale=2)\n",
    "    sns.set_style(\"ticks\") \n",
    "    sns.despine(offset=20)\n",
    "\n",
    "    prot_muttol_table['diff_mut'] = prot_muttol_table[col_x] - prot_muttol_table[col_y]\n",
    "    prot_muttol_table['diff_mut_z-scores'] = stats.zscore(prot_muttol_table['diff_mut'])\n",
    "    prot_muttol_table['MT_DIFF'] = prot_muttol_table['diff_mut_z-scores'].apply(is_significant)\n",
    "\n",
    "    if plot_title == 'only_beneficial_mutations':\n",
    "        label_y = 'Proportion of beneficial mutations'\n",
    "    elif plot_title == 'only_detrimental_mutations':\n",
    "        label_y = 'Proportion of detrimental mutations'\n",
    "    else : \n",
    "        label_y = 'Mouse lenient mutation tolerance'\n",
    "\n",
    "    fig = plt.figure(figsize= (8, 8))\n",
    "    sns.scatterplot(x=prot_muttol_table[col_x], y=prot_muttol_table[col_y], hue=prot_muttol_table['MT_DIFF'], hue_order=['non significant', 'HIGH', 'LOW'], palette=['black', 'purple', 'salmon'],legend=False)\n",
    "    plt.ylabel(f'{label_y} in mouse')\n",
    "    plt.xlabel(f'{label_y} in naked mole-rat')\n",
    "    \n",
    "    \n",
    "    print(f'Stats for mouse vs. naked mole-rat {plot_title} ')\n",
    "    corr, pval = stats.pearsonr( x=prot_muttol_table[col_x], y=prot_muttol_table[col_y])\n",
    "    print('Correlation between mutation tolerance')\n",
    "    print(corr, pval)\n",
    "\n",
    "    # fig.savefig(f'../../figures/revisions/mutation_tolerance/{plot_title}.png', format='png', dpi=300)\n",
    "    # fig.savefig(f'../../figures/revisions/mutation_tolerance/FIGURE_{plot_title}.svg', format='svg', dpi=300)\n",
    "\n",
    "def generate_figure_4D(sign_agg_table, prot_muttol_table, col_y, plot_title):\n",
    "    sns.set_context(\"paper\", font_scale=2)\n",
    "    sns.set_style(\"ticks\")\n",
    "    sns.despine(offset=20)\n",
    "\n",
    "    plt.rcParams[\"figure.figsize\"] = (8, 8)\n",
    "\n",
    "    if plot_title == 'only_beneficial_mutations':\n",
    "        label_y = 'Proportion of beneficial mutations in mouse'\n",
    "    elif plot_title == 'only_detrimental_mutations':\n",
    "        label_y = 'Proportion of detrimental mutations in mouse'\n",
    "    else : \n",
    "        label_y = 'Mouse lenient mutation tolerance'\n",
    "\n",
    "    j = sns.jointplot(data=sign_agg_table, y=col_y, x='Aggregation_y',\n",
    "                    hue='AGG_DIFF', palette=['red', 'blue'], legend=False)\n",
    "    j.set_axis_labels('Mouse whole-protein sequence \\naggregation propensity score',\n",
    "                    label_y, fontsize=16)\n",
    "\n",
    "    MT_vs_HIGH_AGG = prot_muttol_table[prot_muttol_table['proteinID_x'].isin(\n",
    "        HG_high_agg['proteinID_x'])]\n",
    "    MT_vs_LOW_AGG = prot_muttol_table[prot_muttol_table['proteinID_x'].isin(\n",
    "        HG_low_agg['proteinID_x'])]\n",
    "\n",
    "    print(f'\\nStats for {plot_title} in mouse')\n",
    "    print('Difference of distribution in mutation tolerance between proteins with sgnificant difference of aggregation propensity in mouse')\n",
    "    ks, pval = stats.kstest(MT_vs_HIGH_AGG[col_y], MT_vs_LOW_AGG[col_y])\n",
    "    print(ks, pval)\n",
    "    print(stats.ttest_ind(MT_vs_HIGH_AGG[col_y], MT_vs_LOW_AGG[col_y]))\n",
    "    # plt.annotate(f'KS test p-value={pval:0.2e}', xy=(2,4), xycoords='figure points')\n",
    "\n",
    "    # j.savefig(f'../../figures/revisions/mutation_tolerance/{plot_title}_mouse.png', format='png', dpi=300)\n",
    "    # j.savefig('../../figures/revisions/mutation_tolerance/FIGURE4_C_v1.svg', format='svg', dpi=300)\n",
    "\n",
    "def generate_figure_4E(sign_agg_table, prot_muttol_table, col_x, plot_title):\n",
    "    sns.set_context(\"paper\", font_scale=2)\n",
    "    sns.set_style(\"ticks\")\n",
    "    sns.despine(offset=20)\n",
    "\n",
    "    plt.rcParams[\"figure.figsize\"] = (8, 8)\n",
    "\n",
    "    if plot_title == 'only_beneficial_mutations':\n",
    "        label_y = 'Proportion of beneficial mutations in naked mole-rat'\n",
    "    elif plot_title == 'only_detrimental_mutations':\n",
    "        label_y = 'Proportion of detrimental mutations in naked mole-rat'\n",
    "    else :\n",
    "        label_y = 'Naked mole-rat lenient mutation tolerance'\n",
    "\n",
    "    j = sns.jointplot(data=sign_agg_table, y=col_x, x='Aggregation_x',\n",
    "                      hue='AGG_DIFF', palette=['red', 'blue'], legend=False)\n",
    "    j.set_axis_labels('Naked mole-rat whole-protein sequence \\naggregation propensity score',\n",
    "                      label_y, fontsize=16)\n",
    "\n",
    "\n",
    "    MT_vs_HIGH_AGG = prot_muttol_table[prot_muttol_table['proteinID_x'].isin(\n",
    "        HG_high_agg['proteinID_x'])]\n",
    "    MT_vs_LOW_AGG = prot_muttol_table[prot_muttol_table['proteinID_x'].isin(\n",
    "        HG_low_agg['proteinID_x'])]\n",
    "\n",
    "    print(f'\\nStats for {plot_title} in naked mole-rat')\n",
    "    print('Difference of distribution in mutation tolerance between proteins with sgnificant difference of aggregation propensity in naked mole-rat')\n",
    "    ks, pval = stats.kstest(MT_vs_HIGH_AGG[col_x], MT_vs_LOW_AGG[col_x])\n",
    "    print(ks, pval)\n",
    "    print(stats.ttest_ind(MT_vs_HIGH_AGG[col_x], MT_vs_LOW_AGG[col_x]))\n",
    "    # plt.annotate(f'KS test p-value={pval:0.2e}', xy=(2,4), xycoords='figure points')\n",
    "    # j.savefig(f'../../figures/revisions/mutation_tolerance/{plot_title}_nkr.png', format='png', dpi=300)\n",
    "    # j.savefig('../../figures/revisions/mutation_tolerance/FIGURE4_D_v1.svg', format='svg', dpi=300)\n"
   ]
  },
  {
   "cell_type": "code",
   "execution_count": null,
   "metadata": {},
   "outputs": [],
   "source": [
    "# col1 = 'mutTol_0_x'\n",
    "# col2= 'mutTol_0_y'\n",
    "# title = 'mutation_tolerance_0'\n",
    "# generate_figure_4A(no_outliers, col1, col2, title)\n",
    "# generate_figure_4D(sign_agg_table, no_outliers, col2, title)\n",
    "# generate_figure_4E(sign_agg_table, no_outliers, col1, title)"
   ]
  },
  {
   "cell_type": "code",
   "execution_count": null,
   "metadata": {},
   "outputs": [],
   "source": [
    "col1 = 'mutTol_minus0_x'\n",
    "col2= 'mutTol_minus0_y'\n",
    "title = 'mutation_minus0'\n",
    "generate_figure_4A(no_outliers, col1, col2, title)\n",
    "generate_figure_4D(sign_agg_table, no_outliers, col2, title)\n",
    "generate_figure_4E(sign_agg_table, no_outliers, col1, title)"
   ]
  },
  {
   "cell_type": "code",
   "execution_count": null,
   "metadata": {},
   "outputs": [],
   "source": [
    "# col_x = 'mutTol_plus0_x'\n",
    "# col_y = 'mutTol_plus0_y'\n",
    "# title = 'mutation_plus0'\n",
    "# generate_figure_4A(no_outliers, col_x, col_y, title)\n",
    "# generate_figure_4D(sign_agg_table, no_outliers, col_y, title)\n",
    "# generate_figure_4E(sign_agg_table, no_outliers, col_x, title)"
   ]
  },
  {
   "cell_type": "code",
   "execution_count": null,
   "metadata": {},
   "outputs": [],
   "source": [
    "col1 = 'bm_r_x'\n",
    "col2= 'bm_r_y'\n",
    "title = 'only_beneficial_mutations'\n",
    "generate_figure_4A(no_outliers, col1, col2, title)\n",
    "generate_figure_4D(sign_agg_table, no_outliers, col2, title)\n",
    "generate_figure_4E(sign_agg_table, no_outliers, col1, title)"
   ]
  },
  {
   "cell_type": "code",
   "execution_count": null,
   "metadata": {},
   "outputs": [],
   "source": [
    "# col1 = 'dm_r_x'\n",
    "# col2= 'dm_r_y'\n",
    "# title = 'only_detrimental_mutations'\n",
    "# generate_figure_4A(no_outliers, col1, col2, title)\n",
    "# generate_figure_4D(sign_agg_table, no_outliers, col2, title)\n",
    "# generate_figure_4E(sign_agg_table, no_outliers, col1, title)"
   ]
  }
 ],
 "metadata": {
  "interpreter": {
   "hash": "3762c94f590a4b2c2c46a097a0b86d918d42438307a5ed09662993010e471904"
  },
  "kernelspec": {
   "display_name": "Python 3.8.5 64-bit ('bioinfo_3.8': conda)",
   "name": "python3"
  },
  "language_info": {
   "codemirror_mode": {
    "name": "ipython",
    "version": 3
   },
   "file_extension": ".py",
   "mimetype": "text/x-python",
   "name": "python",
   "nbconvert_exporter": "python",
   "pygments_lexer": "ipython3",
   "version": "3.8.10"
  },
  "orig_nbformat": 4
 },
 "nbformat": 4,
 "nbformat_minor": 2
}
