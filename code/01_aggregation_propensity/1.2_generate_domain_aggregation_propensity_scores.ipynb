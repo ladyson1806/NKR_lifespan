{
 "cells": [
  {
   "cell_type": "code",
   "execution_count": 1,
   "metadata": {},
   "outputs": [],
   "source": [
    "import numpy as np\n",
    "import pandas as pd\n",
    "import seaborn as sns\n",
    "import scipy.stats as stats\n",
    "import matplotlib.pyplot as plt\n",
    "import json, os, progressbar, re, time\n",
    "\n",
    "from Bio import SeqIO\n",
    "from Bio import AlignIO\n",
    "from Bio.Seq import Seq\n",
    "from Bio.SeqRecord import SeqRecord\n",
    "from matplotlib_venn import venn3, venn3_circles\n",
    "from matplotlib_venn import venn2, venn2_circles\n",
    "\n",
    "from tqdm import tqdm \n",
    "from tqdm import trange\n",
    "from plotnine import *"
   ]
  },
  {
   "cell_type": "markdown",
   "metadata": {},
   "source": [
    "#### Loading input files"
   ]
  },
  {
   "cell_type": "code",
   "execution_count": 2,
   "metadata": {},
   "outputs": [],
   "source": [
    "#### Species FASTA files\n",
    "HG_fasta = '../../data/ortholog_dataset/uni_HG_orthologs.faa'\n",
    "MM_fasta = '../../data/ortholog_dataset/uni_MM_orthologs.faa'\n",
    "matcher_table = pd.read_csv('../../data/alignment_quality/HGMM_matcher_scores.csv')"
   ]
  },
  {
   "cell_type": "code",
   "execution_count": 3,
   "metadata": {},
   "outputs": [],
   "source": [
    "#### Ortholog dataset\n",
    "in_ortho_db = pd.read_csv('../../data/ortholog_dataset/HG_MM_Orthologs_Length.csv',sep='\\t')\n",
    "HG_ortho = in_ortho_db[['clusterNumber', 'proteinID_x']]\n",
    "MM_ortho = in_ortho_db[['clusterNumber', 'proteinID_y']]\n",
    "\n",
    "MM_IDs = [ seqRecord.id for seqRecord in SeqIO.parse(MM_fasta, format='fasta')]\n",
    "HG_IDs = [ seqRecord.id for seqRecord in SeqIO.parse(HG_fasta, format='fasta')]"
   ]
  },
  {
   "cell_type": "code",
   "execution_count": 4,
   "metadata": {},
   "outputs": [],
   "source": [
    "#### Whole-protein sequence aggregation propensity scores\n",
    "all_agg_scores = pd.read_csv('../../data/aggregation_propensity/HGMM_agg_scores.csv', sep=',') \n",
    "all_agg_scores['delta_aggregation'] = all_agg_scores['Aggregation_x'] - all_agg_scores['Aggregation_y']\n",
    "all_agg_scores['delta_agg_z-scores'] = stats.zscore(all_agg_scores['delta_aggregation'])"
   ]
  },
  {
   "cell_type": "markdown",
   "metadata": {},
   "source": [
    "#### PFAM database\n",
    "- Need to be downloaded with `pfam_download.py`"
   ]
  },
  {
   "cell_type": "code",
   "execution_count": 5,
   "metadata": {},
   "outputs": [],
   "source": [
    "with open('../../data/domain_annotations/MM_results_pfam.json') as json_file:\n",
    "    MM_data = json.load(json_file)"
   ]
  },
  {
   "cell_type": "code",
   "execution_count": 6,
   "metadata": {},
   "outputs": [],
   "source": [
    "with open('../../data/domain_annotations//HG_results_pfam.json') as json_file:\n",
    "    HG_data = json.load(json_file)"
   ]
  },
  {
   "cell_type": "markdown",
   "metadata": {},
   "source": [
    "## 1. Collect number of domains for all proteins"
   ]
  },
  {
   "cell_type": "code",
   "execution_count": 7,
   "metadata": {},
   "outputs": [],
   "source": [
    "def check_annotations(ID, fastaFile):\n",
    "    for seqRecord in SeqIO.parse(fastaFile, format='fasta'):\n",
    "        if ID in seqRecord.id :\n",
    "            if '_MOUSE' in seqRecord.description:\n",
    "                description = re.findall(r'_MOUSE (.*) OS', seqRecord.description)[0]\n",
    "            if '_HETGA' in seqRecord.description:\n",
    "                description = re.findall(r'_HETGA (.*) OS', seqRecord.description)[0]\n",
    "            return description\n",
    "\n",
    "\n",
    "def return_pfam_entry(proteinID, data):\n",
    "     for i in range(len(data)):\n",
    "        if data[i]['metadata']['accession'] == proteinID :\n",
    "            return data[i]\n",
    "\n",
    "\n",
    "def get_domain_nb(proteinID, data):\n",
    "    json_result = return_pfam_entry(proteinID, data)\n",
    "    cpt = 0\n",
    "    for pfam_entry in json_result['entry_subset']:\n",
    "        cpt += len(pfam_entry['entry_protein_locations'])\n",
    "    return cpt\n",
    "\n",
    "\n",
    "def domain_stat(IDs, data, model):\n",
    "    tmp = []\n",
    "    bar = progressbar.ProgressBar()\n",
    "    for ID in bar(IDs):\n",
    "        try:\n",
    "            tmp.append((ID, get_domain_nb(ID, data)))\n",
    "        except:\n",
    "            tmp.append((ID, 0))\n",
    "            \n",
    "    if 'HG' in model:\n",
    "        protein_type = 'proteinID_x'\n",
    "    if 'MM' in model:\n",
    "        protein_type = 'proteinID_y'\n",
    "        \n",
    "    stat_dom_table = pd.DataFrame(tmp, columns=[protein_type, 'nb_domains'])\n",
    "    return stat_dom_table"
   ]
  },
  {
   "cell_type": "code",
   "execution_count": 8,
   "metadata": {},
   "outputs": [
    {
     "name": "stderr",
     "output_type": "stream",
     "text": [
      "100% (13806 of 13806) |##################| Elapsed Time: 0:00:33 Time:  0:00:33\n"
     ]
    }
   ],
   "source": [
    "MM_nb_dom = domain_stat(MM_IDs, MM_data, 'MM')"
   ]
  },
  {
   "cell_type": "code",
   "execution_count": 10,
   "metadata": {},
   "outputs": [
    {
     "data": {
      "text/html": [
       "<div>\n",
       "<style scoped>\n",
       "    .dataframe tbody tr th:only-of-type {\n",
       "        vertical-align: middle;\n",
       "    }\n",
       "\n",
       "    .dataframe tbody tr th {\n",
       "        vertical-align: top;\n",
       "    }\n",
       "\n",
       "    .dataframe thead th {\n",
       "        text-align: right;\n",
       "    }\n",
       "</style>\n",
       "<table border=\"1\" class=\"dataframe\">\n",
       "  <thead>\n",
       "    <tr style=\"text-align: right;\">\n",
       "      <th></th>\n",
       "      <th>proteinID_y</th>\n",
       "      <th>nb_domains</th>\n",
       "    </tr>\n",
       "  </thead>\n",
       "  <tbody>\n",
       "    <tr>\n",
       "      <th>11145</th>\n",
       "      <td>O08736</td>\n",
       "      <td>2</td>\n",
       "    </tr>\n",
       "  </tbody>\n",
       "</table>\n",
       "</div>"
      ],
      "text/plain": [
       "      proteinID_y  nb_domains\n",
       "11145      O08736           2"
      ]
     },
     "execution_count": 10,
     "metadata": {},
     "output_type": "execute_result"
    }
   ],
   "source": [
    "MM_nb_dom[MM_nb_dom['proteinID_y'] == 'O08736']"
   ]
  },
  {
   "cell_type": "code",
   "execution_count": 11,
   "metadata": {},
   "outputs": [
    {
     "name": "stderr",
     "output_type": "stream",
     "text": [
      "100% (13806 of 13806) |##################| Elapsed Time: 0:00:59 Time:  0:00:59\n"
     ]
    }
   ],
   "source": [
    "HG_nb_dom = domain_stat(HG_IDs, HG_data, 'HG')"
   ]
  },
  {
   "cell_type": "markdown",
   "metadata": {},
   "source": [
    "### Restrict to ortholog dataset"
   ]
  },
  {
   "cell_type": "code",
   "execution_count": 13,
   "metadata": {},
   "outputs": [],
   "source": [
    "HG_ortho_dom = HG_nb_dom[HG_nb_dom['proteinID_x'].isin(all_agg_scores['proteinID_x'])]\n",
    "MM_ortho_dom = MM_nb_dom[MM_nb_dom['proteinID_y'].isin(all_agg_scores['proteinID_y'])]"
   ]
  },
  {
   "cell_type": "code",
   "execution_count": 14,
   "metadata": {},
   "outputs": [],
   "source": [
    "ortho_pairs = all_agg_scores[['proteinID_x', 'proteinID_y']]\n",
    "HG_ortho_dom = HG_ortho_dom.merge(ortho_pairs, on='proteinID_x')\n",
    "MM_ortho_dom = MM_ortho_dom.merge(ortho_pairs, on='proteinID_y')\n",
    "ALL_ortho_dom = HG_ortho_dom.merge(MM_ortho_dom, on=['proteinID_x', 'proteinID_y'])"
   ]
  },
  {
   "cell_type": "code",
   "execution_count": 15,
   "metadata": {},
   "outputs": [],
   "source": [
    "ALL_ortho_dom = ALL_ortho_dom.sort_values('proteinID_x')\n",
    "all_agg_scores['Annotations'] = (ALL_ortho_dom['nb_domains_x'] != 0) & (ALL_ortho_dom['nb_domains_y'] != 0) "
   ]
  },
  {
   "cell_type": "code",
   "execution_count": 16,
   "metadata": {},
   "outputs": [
    {
     "data": {
      "text/plain": [
       "6956"
      ]
     },
     "execution_count": 16,
     "metadata": {},
     "output_type": "execute_result"
    }
   ],
   "source": [
    "len(all_agg_scores[all_agg_scores['Annotations'] == True ])"
   ]
  },
  {
   "cell_type": "markdown",
   "metadata": {},
   "source": [
    "## 2. Build domain definition table "
   ]
  },
  {
   "cell_type": "code",
   "execution_count": 17,
   "metadata": {},
   "outputs": [],
   "source": [
    "def build_domain_def_table(ortho_dom, data, model):\n",
    "    if 'HG' in model:\n",
    "        protein_type = 'proteinID_x'\n",
    "        header = [protein_type, 'domain_id', 'dom_start_x', 'dom_end_x']\n",
    "    elif 'MM' in model:\n",
    "        protein_type = 'proteinID_y'\n",
    "        header = [protein_type, 'domain_id', 'dom_start_y', 'dom_end_y']\n",
    "        \n",
    "    tmp = []\n",
    "    bar = progressbar.ProgressBar()\n",
    "    for ID in bar(ortho_dom[ortho_dom['nb_domains'] != 0][protein_type]):\n",
    "        json_result = return_pfam_entry(ID, data)\n",
    "        for entry in json_result['entry_subset']:\n",
    "            for positions in entry['entry_protein_locations']:\n",
    "                model = positions['model']\n",
    "                start = positions['fragments'][0]['start']\n",
    "                end = positions['fragments'][0]['end']\n",
    "                tmp.append((ID, model, int(start)-1, int(end)-1)) ### -1 as we are collecting an alignment position starting from 1\n",
    "    \n",
    "    dom_def = pd.DataFrame(tmp, columns=header)\n",
    "    return dom_def\n",
    "    "
   ]
  },
  {
   "cell_type": "markdown",
   "metadata": {},
   "source": [
    "#### Statistics"
   ]
  },
  {
   "cell_type": "code",
   "execution_count": 18,
   "metadata": {},
   "outputs": [
    {
     "name": "stderr",
     "output_type": "stream",
     "text": [
      "100% (8519 of 8519) |####################| Elapsed Time: 0:00:15 Time:  0:00:15\n",
      "100% (7352 of 7352) |####################| Elapsed Time: 0:00:31 Time:  0:00:31\n"
     ]
    }
   ],
   "source": [
    "MM_dom_def = build_domain_def_table(MM_ortho_dom, MM_data, 'MM')  \n",
    "HG_dom_def = build_domain_def_table(HG_ortho_dom, HG_data, 'HG')  "
   ]
  },
  {
   "cell_type": "code",
   "execution_count": 20,
   "metadata": {},
   "outputs": [
    {
     "data": {
      "text/html": [
       "<div>\n",
       "<style scoped>\n",
       "    .dataframe tbody tr th:only-of-type {\n",
       "        vertical-align: middle;\n",
       "    }\n",
       "\n",
       "    .dataframe tbody tr th {\n",
       "        vertical-align: top;\n",
       "    }\n",
       "\n",
       "    .dataframe thead th {\n",
       "        text-align: right;\n",
       "    }\n",
       "</style>\n",
       "<table border=\"1\" class=\"dataframe\">\n",
       "  <thead>\n",
       "    <tr style=\"text-align: right;\">\n",
       "      <th></th>\n",
       "      <th>proteinID_y</th>\n",
       "      <th>domain_id</th>\n",
       "      <th>dom_start_y</th>\n",
       "      <th>dom_end_y</th>\n",
       "    </tr>\n",
       "  </thead>\n",
       "  <tbody>\n",
       "    <tr>\n",
       "      <th>17956</th>\n",
       "      <td>O08736</td>\n",
       "      <td>PF00619</td>\n",
       "      <td>4</td>\n",
       "      <td>86</td>\n",
       "    </tr>\n",
       "    <tr>\n",
       "      <th>17957</th>\n",
       "      <td>O08736</td>\n",
       "      <td>PF00656</td>\n",
       "      <td>175</td>\n",
       "      <td>413</td>\n",
       "    </tr>\n",
       "  </tbody>\n",
       "</table>\n",
       "</div>"
      ],
      "text/plain": [
       "      proteinID_y domain_id  dom_start_y  dom_end_y\n",
       "17956      O08736   PF00619            4         86\n",
       "17957      O08736   PF00656          175        413"
      ]
     },
     "execution_count": 20,
     "metadata": {},
     "output_type": "execute_result"
    }
   ],
   "source": [
    "MM_dom_def[MM_dom_def['proteinID_y'] == 'O08736']"
   ]
  },
  {
   "cell_type": "code",
   "execution_count": 21,
   "metadata": {},
   "outputs": [
    {
     "name": "stdout",
     "output_type": "stream",
     "text": [
      "19725 annotated domains for 8519 mouse proteins\n"
     ]
    }
   ],
   "source": [
    "print(f'{len(MM_dom_def)} annotated domains for {len(np.unique(MM_dom_def[\"proteinID_y\"]))} mouse proteins')"
   ]
  },
  {
   "cell_type": "code",
   "execution_count": 22,
   "metadata": {},
   "outputs": [
    {
     "name": "stdout",
     "output_type": "stream",
     "text": [
      "Missing annotations for 1003 proteins\n"
     ]
    }
   ],
   "source": [
    "print(f'Missing annotations for {len(MM_ortho_dom[MM_ortho_dom[\"nb_domains\"] == 0])} proteins')"
   ]
  },
  {
   "cell_type": "code",
   "execution_count": 23,
   "metadata": {},
   "outputs": [
    {
     "name": "stdout",
     "output_type": "stream",
     "text": [
      "17162 annotated domains for 7352 naked-mole rat proteins\n"
     ]
    }
   ],
   "source": [
    "print(f'{len(HG_dom_def)} annotated domains for {len(np.unique(HG_dom_def[\"proteinID_x\"]))} naked-mole rat proteins')"
   ]
  },
  {
   "cell_type": "code",
   "execution_count": 24,
   "metadata": {},
   "outputs": [
    {
     "name": "stdout",
     "output_type": "stream",
     "text": [
      "Missing annotations for 2170 proteins\n"
     ]
    }
   ],
   "source": [
    "print(f'Missing annotations for {len(HG_ortho_dom[HG_ortho_dom[\"nb_domains\"] == 0])} proteins')"
   ]
  },
  {
   "cell_type": "markdown",
   "metadata": {},
   "source": [
    "## 3. Collect Tango scores for all domains in ortholog dataset"
   ]
  },
  {
   "cell_type": "code",
   "execution_count": 25,
   "metadata": {},
   "outputs": [],
   "source": [
    "def collect_dom_scores(dom_def, model, ID):\n",
    "    tmp = []\n",
    "        \n",
    "    if 'HG' in model:\n",
    "        protein_type = 'proteinID_x'\n",
    "        tango_output = '/media/savvy/DATA3/savvy/project_2018/WT_TANGO/HG'\n",
    "        start_type = 'dom_start_x'\n",
    "        end_type = 'dom_end_x'\n",
    "    if 'MM' in model:\n",
    "        protein_type = 'proteinID_y'\n",
    "        tango_output = '/media/savvy/DATA3/savvy/project_2018/WT_TANGO/MM'\n",
    "        start_type = 'dom_start_y'\n",
    "        end_type = 'dom_end_y'\n",
    "    \n",
    "    agg_table = pd.read_csv(os.path.join(tango_output,f'{ID}.txt'), sep='\\t')\n",
    "    \n",
    "    dom_table = dom_def[dom_def[protein_type] == ID].reset_index()        \n",
    "    for idx in dom_table.index :\n",
    "        start = int(dom_table[start_type][idx])\n",
    "        end = int(dom_table[end_type][idx])\n",
    "        agg_score = sum(agg_table['Aggregation'][start:end+1]) / len(agg_table['Aggregation'][start:end+1])\n",
    "        tmp.append([ID, dom_table['domain_id'][idx], start, end, agg_score])\n",
    "        \n",
    "    return tmp"
   ]
  },
  {
   "cell_type": "code",
   "execution_count": 26,
   "metadata": {},
   "outputs": [
    {
     "name": "stderr",
     "output_type": "stream",
     "text": [
      "100% (9522 of 9522) |####################| Elapsed Time: 0:02:09 Time:  0:02:09\n"
     ]
    }
   ],
   "source": [
    "MM_DF = pd.DataFrame()\n",
    "bar = progressbar.ProgressBar()\n",
    "for ID in bar(MM_ortho_dom['proteinID_y']):\n",
    "    DF_A = pd.DataFrame(collect_dom_scores(MM_dom_def, 'MM', ID), columns=['proteinID_y', 'domain_id', 'dom_start_y', 'dom_end_y', 'dom_agg_score_y'])\n",
    "    MM_DF = MM_DF.append(DF_A)"
   ]
  },
  {
   "cell_type": "code",
   "execution_count": 27,
   "metadata": {},
   "outputs": [
    {
     "data": {
      "text/plain": [
       "8519"
      ]
     },
     "execution_count": 27,
     "metadata": {},
     "output_type": "execute_result"
    }
   ],
   "source": [
    "#### Number of proteins with annotated domains in mouse \n",
    "len(np.unique(MM_DF['proteinID_y']))"
   ]
  },
  {
   "cell_type": "code",
   "execution_count": 28,
   "metadata": {},
   "outputs": [
    {
     "name": "stderr",
     "output_type": "stream",
     "text": [
      "100% (9522 of 9522) |####################| Elapsed Time: 0:02:07 Time:  0:02:07\n"
     ]
    }
   ],
   "source": [
    "HG_DF = pd.DataFrame()\n",
    "bar = progressbar.ProgressBar()\n",
    "for ID in bar(HG_ortho_dom['proteinID_x']):\n",
    "    DF_B = pd.DataFrame(collect_dom_scores(HG_dom_def, 'HG', ID), columns=['proteinID_x', 'domain_id', 'dom_start_x', 'dom_end_x', 'dom_agg_score_x'])\n",
    "    HG_DF = HG_DF.append(DF_B)"
   ]
  },
  {
   "cell_type": "code",
   "execution_count": 29,
   "metadata": {},
   "outputs": [
    {
     "data": {
      "text/plain": [
       "7352"
      ]
     },
     "execution_count": 29,
     "metadata": {},
     "output_type": "execute_result"
    }
   ],
   "source": [
    "#### Number of proteins with annotated domains in naked mole-rat \n",
    "len(np.unique(HG_DF['proteinID_x']))"
   ]
  },
  {
   "cell_type": "code",
   "execution_count": 34,
   "metadata": {},
   "outputs": [],
   "source": [
    "def collect_raw_pos(seqs, dom_table, idx):\n",
    "    domain_id = dom_table['domain_id'][idx]\n",
    "    start = dom_table['dom_start_y'][idx]\n",
    "    end = dom_table['dom_end_y'][idx]\n",
    "\n",
    "    dom_record = SeqRecord(\n",
    "        Seq(str(seqs[0].seq)[start:end+1]), \n",
    "        id=seqs[0].id, \n",
    "        name=domain_id, \n",
    "        description=f'{seqs[0].id}_{domain_id}_{start}_{end}')\n",
    "    \n",
    "    with open(\"./tmp/dom.fasta\", \"w\") as output_handle:\n",
    "        SeqIO.write(dom_record, output_handle, format='fasta')\n",
    "    \n",
    "    query = \"./tmp/dom.fasta\"\n",
    "    subject = \"./tmp/subject.fasta\"\n",
    "    !blastp -query {query} -subject {subject} -evalue 10E-3 -outfmt 7 -out ./tmp/domain_mapping.csv\n",
    "    try: \n",
    "        blast_res = pd.read_csv('./tmp/domain_mapping.csv', names=['query acc.ver', 'subject acc.ver', '% identity', 'alignment length', 'mismatches', 'gap opens', 'q. start', 'q. end', 's. start', 's. end', 'evalue', 'bit score'], comment='#', sep='\\t')\n",
    "        dom_start = blast_res['q. start'][0]\n",
    "        dom_end = blast_res['q. end'][0]\n",
    "        sub_start = blast_res['s. start'][0]\n",
    "        sub_end = blast_res['s. end'][0]\n",
    "        dom_patt = dom_record.seq[dom_start-1:dom_end+1]\n",
    "        q_start = seqs[0].seq.find(dom_patt)\n",
    "        q_end = q_start + len(dom_patt)-1\n",
    "        return seqs[0].id, seqs[1].id, domain_id, int(q_start), int(q_end), int(sub_start), int(sub_end)\n",
    "    \n",
    "    except:\n",
    "        print(f'No mapping for {seqs[0].id} - {domain_id} {start} {end}')\n",
    "        return None\n",
    "    \n",
    "\n",
    "def get_sequences(y):\n",
    "    tmp = []\n",
    "    \n",
    "    x = all_agg_scores[all_agg_scores['proteinID_y'] == y]['proteinID_x'].values[0]\n",
    "    for seqRecord in SeqIO.parse(MM_fasta, format='fasta'):\n",
    "        if y in seqRecord.id : \n",
    "            tmp.append(seqRecord)\n",
    "    for seqRecord in SeqIO.parse(HG_fasta, format='fasta'):\n",
    "        if x in seqRecord.id :\n",
    "            tmp.append(seqRecord)\n",
    "    return tmp\n",
    "\n",
    "def collect_dom_pos(ID):\n",
    "    ## Collect MM and HG sequences\n",
    "    seqs = get_sequences(ID)\n",
    "    with open(\"./tmp/query.fasta\", \"w\") as output_handle:\n",
    "        SeqIO.write(seqs[0], output_handle, format='fasta')\n",
    "    with open(\"./tmp/subject.fasta\", \"w\") as output_handle:\n",
    "        SeqIO.write(seqs[1], output_handle, format='fasta')\n",
    "    ## Collect domain table for x protein\n",
    "    dom_table = MM_dom_def[MM_dom_def['proteinID_y'] == ID].reset_index()\n",
    "\n",
    "    tmp = []\n",
    "    for idx in dom_table.index:\n",
    "        tmp.append(collect_raw_pos(seqs, dom_table, idx))\n",
    "    return tmp\n",
    "\n",
    "def get_dom_agg_score(model, dom_table):\n",
    "    if 'HG' in model :\n",
    "        tango_output = '/media/savvy/DATA3/savvy/project_2018/WT_TANGO/HG/'\n",
    "        protein_type = 'proteinID_x'\n",
    "        start_type = 'dom_start_x'\n",
    "        end_type = 'dom_end_x'\n",
    "    if 'MM' in model : \n",
    "        tango_output = '/media/savvy/DATA3/savvy/project_2018/WT_TANGO/MM/'\n",
    "        protein_type = 'proteinID_y'\n",
    "        start_type = 'dom_start_y'\n",
    "        end_type = 'dom_end_y'\n",
    "    \n",
    "    try:\n",
    "        ID = dom_table[protein_type].values[0]\n",
    "    \n",
    "        agg_table = pd.read_csv(os.path.join(tango_output,f'{ID}.txt'), sep='\\t')\n",
    "        tmp = []\n",
    "        for idx in dom_table.index :\n",
    "            start = dom_table[start_type][idx]\n",
    "            end = dom_table[end_type][idx]\n",
    "            agg_score = sum(agg_table['Aggregation'][int(start):int(end)+1]) / len(agg_table['Aggregation'][int(start):int(end)+1])\n",
    "            tmp.append([ID, dom_table['domain_id'][idx], start, end, agg_score])\n",
    "        return tmp\n",
    "    \n",
    "    except:\n",
    "        return []\n",
    "\n",
    "def domain_mapping(ID):\n",
    "    tmp = collect_dom_pos(ID)\n",
    "    if None in tmp :\n",
    "        tmp.remove(None)\n",
    "    try:\n",
    "        if len(tmp) != 0 :\n",
    "            dom_table = pd.DataFrame(tmp, columns=['proteinID_y', 'proteinID_x', 'domain_id', 'dom_start_y', 'dom_end_y', 'dom_start_x', 'dom_end_x'])\n",
    "            dom_table = dom_table.dropna()\n",
    "\n",
    "            MM_list = get_dom_agg_score('MM', dom_table)\n",
    "            HG_list = get_dom_agg_score('HG', dom_table)\n",
    "\n",
    "            tmp = []\n",
    "\n",
    "            for i in range(len(MM_list)):\n",
    "                proteinID_y = MM_list[i][0]\n",
    "                domain_id = MM_list[i][1]\n",
    "                dom_start_y = int(MM_list[i][2])\n",
    "                dom_end_y = int(MM_list[i][3])\n",
    "                dom_agg_score_y = MM_list[i][4]\n",
    "                dom_length_y = dom_end_y - dom_start_y\n",
    "\n",
    "                proteinID_x = HG_list[i][0]\n",
    "                dom_start_x = int(HG_list[i][2])\n",
    "                dom_end_x = int(HG_list[i][3])\n",
    "                dom_agg_score_x = HG_list[i][4]\n",
    "                dom_length_x = dom_end_x - dom_start_x\n",
    "\n",
    "                tmp.append([proteinID_y, domain_id, dom_start_y, dom_end_y, dom_agg_score_y, dom_length_y, proteinID_x, dom_start_x, dom_end_x, dom_agg_score_x, dom_length_x])\n",
    "            return ID, pd.DataFrame(tmp, columns=['proteinID_y', 'domain_id', 'dom_start_y', 'dom_end_y', 'dom_agg_score_y', 'dom_length_y', 'proteinID_x', 'dom_start_x', 'dom_end_x', 'dom_agg_score_x', 'dom_length_x'])\n",
    "        else:\n",
    "            print(f'No annotations mapping possible for {ID}')\n",
    "            return ID, []\n",
    "    except:\n",
    "        print(f'No annotations mapping possible for {ID}')\n",
    "        return ID, []"
   ]
  },
  {
   "cell_type": "code",
   "execution_count": null,
   "metadata": {},
   "outputs": [],
   "source": [
    "troubleshoot = []\n",
    "dom_agg_table = pd.DataFrame()\n",
    "bar = progressbar.ProgressBar()\n",
    "for idx in bar(ortho_pairs.index) :\n",
    "    proteinID_y = ortho_pairs['proteinID_y'][idx]\n",
    "    ID, map_success = domain_mapping(proteinID_y)\n",
    "    if len(map_success) != 0 :\n",
    "        dom_agg_table = dom_agg_table.append(map_success)\n",
    "    else: \n",
    "        troubleshoot.append(ID)"
   ]
  },
  {
   "cell_type": "code",
   "execution_count": null,
   "metadata": {},
   "outputs": [],
   "source": [
    "dom_agg_table.to_csv('../../data/aggregation_propensity/HGMM_dom_agg_scores.csv', sep='\\t', index=False)"
   ]
  }
 ],
 "metadata": {
  "interpreter": {
   "hash": "52454c618a4204657519cbab42273bb942d0a30f08c27de48ae386072d003f99"
  },
  "kernelspec": {
   "display_name": "Python 3.8.10 64-bit ('bioinfo_3.8': conda)",
   "name": "python3"
  },
  "language_info": {
   "codemirror_mode": {
    "name": "ipython",
    "version": 3
   },
   "file_extension": ".py",
   "mimetype": "text/x-python",
   "name": "python",
   "nbconvert_exporter": "python",
   "pygments_lexer": "ipython3",
   "version": "3.8.10"
  },
  "orig_nbformat": 4
 },
 "nbformat": 4,
 "nbformat_minor": 2
}
